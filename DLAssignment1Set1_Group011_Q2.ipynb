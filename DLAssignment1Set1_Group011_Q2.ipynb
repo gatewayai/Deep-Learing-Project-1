{
  "nbformat": 4,
  "nbformat_minor": 0,
  "metadata": {
    "colab": {
      "name": "Q2 DL",
      "provenance": [],
      "collapsed_sections": []
    },
    "kernelspec": {
      "name": "python3",
      "display_name": "Python 3"
    },
    "language_info": {
      "name": "python"
    }
  },
  "cells": [
    {
      "cell_type": "code",
      "execution_count": 1,
      "metadata": {
        "id": "QNoQTEhvpfa9"
      },
      "outputs": [],
      "source": [
        "import pandas as pd\n",
        "\n",
        "from sklearn import preprocessing\n",
        "from sklearn.model_selection import train_test_split\n",
        "\n",
        "import tensorflow as tf"
      ]
    },
    {
      "cell_type": "markdown",
      "source": [
        "## 1. Load the attached csv file in python. Each row consists of feature 1, feature 2, class label"
      ],
      "metadata": {
        "id": "Wq3nLkNSp-xa"
      }
    },
    {
      "cell_type": "code",
      "source": [
        "from google.colab import files\n",
        "uploaded = files.upload()"
      ],
      "metadata": {
        "colab": {
          "base_uri": "https://localhost:8080/",
          "height": 73,
          "resources": {
            "http://localhost:8080/nbextensions/google.colab/files.js": {
              "data": "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",
              "ok": true,
              "headers": [
                [
                  "content-type",
                  "application/javascript"
                ]
              ],
              "status": 200,
              "status_text": ""
            }
          }
        },
        "id": "fylfW1Gep9kn",
        "outputId": "b68e7437-cbd7-4070-9ea5-b91c4f41f957"
      },
      "execution_count": 2,
      "outputs": [
        {
          "output_type": "display_data",
          "data": {
            "text/plain": [
              "<IPython.core.display.HTML object>"
            ],
            "text/html": [
              "\n",
              "     <input type=\"file\" id=\"files-b6e862fc-dd78-4a7f-8240-fe774e55a554\" name=\"files[]\" multiple disabled\n",
              "        style=\"border:none\" />\n",
              "     <output id=\"result-b6e862fc-dd78-4a7f-8240-fe774e55a554\">\n",
              "      Upload widget is only available when the cell has been executed in the\n",
              "      current browser session. Please rerun this cell to enable.\n",
              "      </output>\n",
              "      <script src=\"/nbextensions/google.colab/files.js\"></script> "
            ]
          },
          "metadata": {}
        },
        {
          "output_type": "stream",
          "name": "stdout",
          "text": [
            "Saving data1_0.2.csv to data1_0.2.csv\n"
          ]
        }
      ]
    },
    {
      "cell_type": "code",
      "source": [
        "df=pd.read_csv(\"data1_0.2.csv\", header=None)\n",
        "df"
      ],
      "metadata": {
        "colab": {
          "base_uri": "https://localhost:8080/",
          "height": 424
        },
        "id": "PX0s1J4oqRRq",
        "outputId": "2fb39331-539a-4a85-ec38-bb50da91cd11"
      },
      "execution_count": 3,
      "outputs": [
        {
          "output_type": "execute_result",
          "data": {
            "text/plain": [
              "            0         1  2\n",
              "0    0.046000 -0.181767  0\n",
              "1   -0.516146  0.210068  0\n",
              "2    0.246368 -0.514901  0\n",
              "3   -0.176004  0.538347  0\n",
              "4   -0.540533  0.239300  0\n",
              "..        ...       ... ..\n",
              "760  0.218472  0.184996  1\n",
              "761 -0.097992 -0.302559  1\n",
              "762 -0.236467  0.212870  1\n",
              "763  0.745290 -0.210026  1\n",
              "764  0.248667  0.218322  1\n",
              "\n",
              "[765 rows x 3 columns]"
            ],
            "text/html": [
              "\n",
              "  <div id=\"df-243af61d-4151-4310-8e8c-3cf647ebe96d\">\n",
              "    <div class=\"colab-df-container\">\n",
              "      <div>\n",
              "<style scoped>\n",
              "    .dataframe tbody tr th:only-of-type {\n",
              "        vertical-align: middle;\n",
              "    }\n",
              "\n",
              "    .dataframe tbody tr th {\n",
              "        vertical-align: top;\n",
              "    }\n",
              "\n",
              "    .dataframe thead th {\n",
              "        text-align: right;\n",
              "    }\n",
              "</style>\n",
              "<table border=\"1\" class=\"dataframe\">\n",
              "  <thead>\n",
              "    <tr style=\"text-align: right;\">\n",
              "      <th></th>\n",
              "      <th>0</th>\n",
              "      <th>1</th>\n",
              "      <th>2</th>\n",
              "    </tr>\n",
              "  </thead>\n",
              "  <tbody>\n",
              "    <tr>\n",
              "      <th>0</th>\n",
              "      <td>0.046000</td>\n",
              "      <td>-0.181767</td>\n",
              "      <td>0</td>\n",
              "    </tr>\n",
              "    <tr>\n",
              "      <th>1</th>\n",
              "      <td>-0.516146</td>\n",
              "      <td>0.210068</td>\n",
              "      <td>0</td>\n",
              "    </tr>\n",
              "    <tr>\n",
              "      <th>2</th>\n",
              "      <td>0.246368</td>\n",
              "      <td>-0.514901</td>\n",
              "      <td>0</td>\n",
              "    </tr>\n",
              "    <tr>\n",
              "      <th>3</th>\n",
              "      <td>-0.176004</td>\n",
              "      <td>0.538347</td>\n",
              "      <td>0</td>\n",
              "    </tr>\n",
              "    <tr>\n",
              "      <th>4</th>\n",
              "      <td>-0.540533</td>\n",
              "      <td>0.239300</td>\n",
              "      <td>0</td>\n",
              "    </tr>\n",
              "    <tr>\n",
              "      <th>...</th>\n",
              "      <td>...</td>\n",
              "      <td>...</td>\n",
              "      <td>...</td>\n",
              "    </tr>\n",
              "    <tr>\n",
              "      <th>760</th>\n",
              "      <td>0.218472</td>\n",
              "      <td>0.184996</td>\n",
              "      <td>1</td>\n",
              "    </tr>\n",
              "    <tr>\n",
              "      <th>761</th>\n",
              "      <td>-0.097992</td>\n",
              "      <td>-0.302559</td>\n",
              "      <td>1</td>\n",
              "    </tr>\n",
              "    <tr>\n",
              "      <th>762</th>\n",
              "      <td>-0.236467</td>\n",
              "      <td>0.212870</td>\n",
              "      <td>1</td>\n",
              "    </tr>\n",
              "    <tr>\n",
              "      <th>763</th>\n",
              "      <td>0.745290</td>\n",
              "      <td>-0.210026</td>\n",
              "      <td>1</td>\n",
              "    </tr>\n",
              "    <tr>\n",
              "      <th>764</th>\n",
              "      <td>0.248667</td>\n",
              "      <td>0.218322</td>\n",
              "      <td>1</td>\n",
              "    </tr>\n",
              "  </tbody>\n",
              "</table>\n",
              "<p>765 rows × 3 columns</p>\n",
              "</div>\n",
              "      <button class=\"colab-df-convert\" onclick=\"convertToInteractive('df-243af61d-4151-4310-8e8c-3cf647ebe96d')\"\n",
              "              title=\"Convert this dataframe to an interactive table.\"\n",
              "              style=\"display:none;\">\n",
              "        \n",
              "  <svg xmlns=\"http://www.w3.org/2000/svg\" height=\"24px\"viewBox=\"0 0 24 24\"\n",
              "       width=\"24px\">\n",
              "    <path d=\"M0 0h24v24H0V0z\" fill=\"none\"/>\n",
              "    <path d=\"M18.56 5.44l.94 2.06.94-2.06 2.06-.94-2.06-.94-.94-2.06-.94 2.06-2.06.94zm-11 1L8.5 8.5l.94-2.06 2.06-.94-2.06-.94L8.5 2.5l-.94 2.06-2.06.94zm10 10l.94 2.06.94-2.06 2.06-.94-2.06-.94-.94-2.06-.94 2.06-2.06.94z\"/><path d=\"M17.41 7.96l-1.37-1.37c-.4-.4-.92-.59-1.43-.59-.52 0-1.04.2-1.43.59L10.3 9.45l-7.72 7.72c-.78.78-.78 2.05 0 2.83L4 21.41c.39.39.9.59 1.41.59.51 0 1.02-.2 1.41-.59l7.78-7.78 2.81-2.81c.8-.78.8-2.07 0-2.86zM5.41 20L4 18.59l7.72-7.72 1.47 1.35L5.41 20z\"/>\n",
              "  </svg>\n",
              "      </button>\n",
              "      \n",
              "  <style>\n",
              "    .colab-df-container {\n",
              "      display:flex;\n",
              "      flex-wrap:wrap;\n",
              "      gap: 12px;\n",
              "    }\n",
              "\n",
              "    .colab-df-convert {\n",
              "      background-color: #E8F0FE;\n",
              "      border: none;\n",
              "      border-radius: 50%;\n",
              "      cursor: pointer;\n",
              "      display: none;\n",
              "      fill: #1967D2;\n",
              "      height: 32px;\n",
              "      padding: 0 0 0 0;\n",
              "      width: 32px;\n",
              "    }\n",
              "\n",
              "    .colab-df-convert:hover {\n",
              "      background-color: #E2EBFA;\n",
              "      box-shadow: 0px 1px 2px rgba(60, 64, 67, 0.3), 0px 1px 3px 1px rgba(60, 64, 67, 0.15);\n",
              "      fill: #174EA6;\n",
              "    }\n",
              "\n",
              "    [theme=dark] .colab-df-convert {\n",
              "      background-color: #3B4455;\n",
              "      fill: #D2E3FC;\n",
              "    }\n",
              "\n",
              "    [theme=dark] .colab-df-convert:hover {\n",
              "      background-color: #434B5C;\n",
              "      box-shadow: 0px 1px 3px 1px rgba(0, 0, 0, 0.15);\n",
              "      filter: drop-shadow(0px 1px 2px rgba(0, 0, 0, 0.3));\n",
              "      fill: #FFFFFF;\n",
              "    }\n",
              "  </style>\n",
              "\n",
              "      <script>\n",
              "        const buttonEl =\n",
              "          document.querySelector('#df-243af61d-4151-4310-8e8c-3cf647ebe96d button.colab-df-convert');\n",
              "        buttonEl.style.display =\n",
              "          google.colab.kernel.accessAllowed ? 'block' : 'none';\n",
              "\n",
              "        async function convertToInteractive(key) {\n",
              "          const element = document.querySelector('#df-243af61d-4151-4310-8e8c-3cf647ebe96d');\n",
              "          const dataTable =\n",
              "            await google.colab.kernel.invokeFunction('convertToInteractive',\n",
              "                                                     [key], {});\n",
              "          if (!dataTable) return;\n",
              "\n",
              "          const docLinkHtml = 'Like what you see? Visit the ' +\n",
              "            '<a target=\"_blank\" href=https://colab.research.google.com/notebooks/data_table.ipynb>data table notebook</a>'\n",
              "            + ' to learn more about interactive tables.';\n",
              "          element.innerHTML = '';\n",
              "          dataTable['output_type'] = 'display_data';\n",
              "          await google.colab.output.renderOutput(dataTable, element);\n",
              "          const docLink = document.createElement('div');\n",
              "          docLink.innerHTML = docLinkHtml;\n",
              "          element.appendChild(docLink);\n",
              "        }\n",
              "      </script>\n",
              "    </div>\n",
              "  </div>\n",
              "  "
            ]
          },
          "metadata": {},
          "execution_count": 3
        }
      ]
    },
    {
      "cell_type": "code",
      "source": [
        "df.rename(columns={0: \"Feature_1\", 1:\"Feature_2\", 2:\"Class\"}, inplace=True)\n",
        "df"
      ],
      "metadata": {
        "colab": {
          "base_uri": "https://localhost:8080/",
          "height": 424
        },
        "id": "btoGOHj8rki-",
        "outputId": "62d5bfa4-c53b-4001-80b6-904837393e1c"
      },
      "execution_count": 4,
      "outputs": [
        {
          "output_type": "execute_result",
          "data": {
            "text/plain": [
              "     Feature_1  Feature_2  Class\n",
              "0     0.046000  -0.181767      0\n",
              "1    -0.516146   0.210068      0\n",
              "2     0.246368  -0.514901      0\n",
              "3    -0.176004   0.538347      0\n",
              "4    -0.540533   0.239300      0\n",
              "..         ...        ...    ...\n",
              "760   0.218472   0.184996      1\n",
              "761  -0.097992  -0.302559      1\n",
              "762  -0.236467   0.212870      1\n",
              "763   0.745290  -0.210026      1\n",
              "764   0.248667   0.218322      1\n",
              "\n",
              "[765 rows x 3 columns]"
            ],
            "text/html": [
              "\n",
              "  <div id=\"df-503adfe9-3ee9-44c2-b1de-e6788666ad2e\">\n",
              "    <div class=\"colab-df-container\">\n",
              "      <div>\n",
              "<style scoped>\n",
              "    .dataframe tbody tr th:only-of-type {\n",
              "        vertical-align: middle;\n",
              "    }\n",
              "\n",
              "    .dataframe tbody tr th {\n",
              "        vertical-align: top;\n",
              "    }\n",
              "\n",
              "    .dataframe thead th {\n",
              "        text-align: right;\n",
              "    }\n",
              "</style>\n",
              "<table border=\"1\" class=\"dataframe\">\n",
              "  <thead>\n",
              "    <tr style=\"text-align: right;\">\n",
              "      <th></th>\n",
              "      <th>Feature_1</th>\n",
              "      <th>Feature_2</th>\n",
              "      <th>Class</th>\n",
              "    </tr>\n",
              "  </thead>\n",
              "  <tbody>\n",
              "    <tr>\n",
              "      <th>0</th>\n",
              "      <td>0.046000</td>\n",
              "      <td>-0.181767</td>\n",
              "      <td>0</td>\n",
              "    </tr>\n",
              "    <tr>\n",
              "      <th>1</th>\n",
              "      <td>-0.516146</td>\n",
              "      <td>0.210068</td>\n",
              "      <td>0</td>\n",
              "    </tr>\n",
              "    <tr>\n",
              "      <th>2</th>\n",
              "      <td>0.246368</td>\n",
              "      <td>-0.514901</td>\n",
              "      <td>0</td>\n",
              "    </tr>\n",
              "    <tr>\n",
              "      <th>3</th>\n",
              "      <td>-0.176004</td>\n",
              "      <td>0.538347</td>\n",
              "      <td>0</td>\n",
              "    </tr>\n",
              "    <tr>\n",
              "      <th>4</th>\n",
              "      <td>-0.540533</td>\n",
              "      <td>0.239300</td>\n",
              "      <td>0</td>\n",
              "    </tr>\n",
              "    <tr>\n",
              "      <th>...</th>\n",
              "      <td>...</td>\n",
              "      <td>...</td>\n",
              "      <td>...</td>\n",
              "    </tr>\n",
              "    <tr>\n",
              "      <th>760</th>\n",
              "      <td>0.218472</td>\n",
              "      <td>0.184996</td>\n",
              "      <td>1</td>\n",
              "    </tr>\n",
              "    <tr>\n",
              "      <th>761</th>\n",
              "      <td>-0.097992</td>\n",
              "      <td>-0.302559</td>\n",
              "      <td>1</td>\n",
              "    </tr>\n",
              "    <tr>\n",
              "      <th>762</th>\n",
              "      <td>-0.236467</td>\n",
              "      <td>0.212870</td>\n",
              "      <td>1</td>\n",
              "    </tr>\n",
              "    <tr>\n",
              "      <th>763</th>\n",
              "      <td>0.745290</td>\n",
              "      <td>-0.210026</td>\n",
              "      <td>1</td>\n",
              "    </tr>\n",
              "    <tr>\n",
              "      <th>764</th>\n",
              "      <td>0.248667</td>\n",
              "      <td>0.218322</td>\n",
              "      <td>1</td>\n",
              "    </tr>\n",
              "  </tbody>\n",
              "</table>\n",
              "<p>765 rows × 3 columns</p>\n",
              "</div>\n",
              "      <button class=\"colab-df-convert\" onclick=\"convertToInteractive('df-503adfe9-3ee9-44c2-b1de-e6788666ad2e')\"\n",
              "              title=\"Convert this dataframe to an interactive table.\"\n",
              "              style=\"display:none;\">\n",
              "        \n",
              "  <svg xmlns=\"http://www.w3.org/2000/svg\" height=\"24px\"viewBox=\"0 0 24 24\"\n",
              "       width=\"24px\">\n",
              "    <path d=\"M0 0h24v24H0V0z\" fill=\"none\"/>\n",
              "    <path d=\"M18.56 5.44l.94 2.06.94-2.06 2.06-.94-2.06-.94-.94-2.06-.94 2.06-2.06.94zm-11 1L8.5 8.5l.94-2.06 2.06-.94-2.06-.94L8.5 2.5l-.94 2.06-2.06.94zm10 10l.94 2.06.94-2.06 2.06-.94-2.06-.94-.94-2.06-.94 2.06-2.06.94z\"/><path d=\"M17.41 7.96l-1.37-1.37c-.4-.4-.92-.59-1.43-.59-.52 0-1.04.2-1.43.59L10.3 9.45l-7.72 7.72c-.78.78-.78 2.05 0 2.83L4 21.41c.39.39.9.59 1.41.59.51 0 1.02-.2 1.41-.59l7.78-7.78 2.81-2.81c.8-.78.8-2.07 0-2.86zM5.41 20L4 18.59l7.72-7.72 1.47 1.35L5.41 20z\"/>\n",
              "  </svg>\n",
              "      </button>\n",
              "      \n",
              "  <style>\n",
              "    .colab-df-container {\n",
              "      display:flex;\n",
              "      flex-wrap:wrap;\n",
              "      gap: 12px;\n",
              "    }\n",
              "\n",
              "    .colab-df-convert {\n",
              "      background-color: #E8F0FE;\n",
              "      border: none;\n",
              "      border-radius: 50%;\n",
              "      cursor: pointer;\n",
              "      display: none;\n",
              "      fill: #1967D2;\n",
              "      height: 32px;\n",
              "      padding: 0 0 0 0;\n",
              "      width: 32px;\n",
              "    }\n",
              "\n",
              "    .colab-df-convert:hover {\n",
              "      background-color: #E2EBFA;\n",
              "      box-shadow: 0px 1px 2px rgba(60, 64, 67, 0.3), 0px 1px 3px 1px rgba(60, 64, 67, 0.15);\n",
              "      fill: #174EA6;\n",
              "    }\n",
              "\n",
              "    [theme=dark] .colab-df-convert {\n",
              "      background-color: #3B4455;\n",
              "      fill: #D2E3FC;\n",
              "    }\n",
              "\n",
              "    [theme=dark] .colab-df-convert:hover {\n",
              "      background-color: #434B5C;\n",
              "      box-shadow: 0px 1px 3px 1px rgba(0, 0, 0, 0.15);\n",
              "      filter: drop-shadow(0px 1px 2px rgba(0, 0, 0, 0.3));\n",
              "      fill: #FFFFFF;\n",
              "    }\n",
              "  </style>\n",
              "\n",
              "      <script>\n",
              "        const buttonEl =\n",
              "          document.querySelector('#df-503adfe9-3ee9-44c2-b1de-e6788666ad2e button.colab-df-convert');\n",
              "        buttonEl.style.display =\n",
              "          google.colab.kernel.accessAllowed ? 'block' : 'none';\n",
              "\n",
              "        async function convertToInteractive(key) {\n",
              "          const element = document.querySelector('#df-503adfe9-3ee9-44c2-b1de-e6788666ad2e');\n",
              "          const dataTable =\n",
              "            await google.colab.kernel.invokeFunction('convertToInteractive',\n",
              "                                                     [key], {});\n",
              "          if (!dataTable) return;\n",
              "\n",
              "          const docLinkHtml = 'Like what you see? Visit the ' +\n",
              "            '<a target=\"_blank\" href=https://colab.research.google.com/notebooks/data_table.ipynb>data table notebook</a>'\n",
              "            + ' to learn more about interactive tables.';\n",
              "          element.innerHTML = '';\n",
              "          dataTable['output_type'] = 'display_data';\n",
              "          await google.colab.output.renderOutput(dataTable, element);\n",
              "          const docLink = document.createElement('div');\n",
              "          docLink.innerHTML = docLinkHtml;\n",
              "          element.appendChild(docLink);\n",
              "        }\n",
              "      </script>\n",
              "    </div>\n",
              "  </div>\n",
              "  "
            ]
          },
          "metadata": {},
          "execution_count": 4
        }
      ]
    },
    {
      "cell_type": "code",
      "source": [
        "df[\"Class\"].unique()"
      ],
      "metadata": {
        "colab": {
          "base_uri": "https://localhost:8080/"
        },
        "id": "P-xXO2rMrne9",
        "outputId": "3ccf96c6-7984-4236-db85-561b59de9d32"
      },
      "execution_count": 5,
      "outputs": [
        {
          "output_type": "execute_result",
          "data": {
            "text/plain": [
              "array([0, 1])"
            ]
          },
          "metadata": {},
          "execution_count": 5
        }
      ]
    },
    {
      "cell_type": "code",
      "source": [
        "data=df.values\n",
        "data"
      ],
      "metadata": {
        "colab": {
          "base_uri": "https://localhost:8080/"
        },
        "id": "f0dNxIo-rpp1",
        "outputId": "308bf090-1706-4e1e-d5d9-2512531d93cc"
      },
      "execution_count": 6,
      "outputs": [
        {
          "output_type": "execute_result",
          "data": {
            "text/plain": [
              "array([[ 0.04599954, -0.18176747,  0.        ],\n",
              "       [-0.51614619,  0.21006791,  0.        ],\n",
              "       [ 0.24636835, -0.5149011 ,  0.        ],\n",
              "       ...,\n",
              "       [-0.23646717,  0.21286969,  1.        ],\n",
              "       [ 0.74528979, -0.21002566,  1.        ],\n",
              "       [ 0.2486673 ,  0.21832184,  1.        ]])"
            ]
          },
          "metadata": {},
          "execution_count": 6
        }
      ]
    },
    {
      "cell_type": "code",
      "source": [
        "data_ft=data[:,0:2]\n",
        "data_ft"
      ],
      "metadata": {
        "colab": {
          "base_uri": "https://localhost:8080/"
        },
        "id": "XpqRN_pTrr-F",
        "outputId": "adf02966-ac15-440a-af09-caf3fc268bc8"
      },
      "execution_count": 7,
      "outputs": [
        {
          "output_type": "execute_result",
          "data": {
            "text/plain": [
              "array([[ 0.04599954, -0.18176747],\n",
              "       [-0.51614619,  0.21006791],\n",
              "       [ 0.24636835, -0.5149011 ],\n",
              "       ...,\n",
              "       [-0.23646717,  0.21286969],\n",
              "       [ 0.74528979, -0.21002566],\n",
              "       [ 0.2486673 ,  0.21832184]])"
            ]
          },
          "metadata": {},
          "execution_count": 7
        }
      ]
    },
    {
      "cell_type": "code",
      "source": [
        "data_clas=data[:,2]\n",
        "data_clas"
      ],
      "metadata": {
        "colab": {
          "base_uri": "https://localhost:8080/"
        },
        "id": "oWlhLUUiryxD",
        "outputId": "e563fa7f-026d-42db-ab1b-fbe78bd2a23e"
      },
      "execution_count": 8,
      "outputs": [
        {
          "output_type": "execute_result",
          "data": {
            "text/plain": [
              "array([0., 0., 0., 0., 0., 0., 0., 0., 0., 0., 0., 0., 0., 0., 0., 0., 0.,\n",
              "       0., 0., 0., 0., 0., 0., 0., 0., 0., 0., 0., 0., 0., 0., 0., 0., 0.,\n",
              "       0., 0., 0., 0., 0., 0., 0., 0., 0., 0., 0., 0., 0., 0., 0., 0., 0.,\n",
              "       0., 0., 0., 0., 0., 0., 0., 0., 0., 0., 0., 0., 0., 0., 0., 0., 0.,\n",
              "       0., 0., 0., 0., 0., 0., 0., 0., 0., 0., 0., 0., 0., 0., 0., 0., 0.,\n",
              "       0., 0., 0., 0., 0., 0., 0., 0., 0., 0., 0., 0., 0., 0., 0., 0., 0.,\n",
              "       0., 0., 0., 0., 0., 0., 0., 0., 0., 0., 0., 0., 0., 0., 0., 0., 0.,\n",
              "       0., 0., 0., 0., 0., 0., 0., 0., 0., 0., 0., 0., 0., 0., 0., 0., 0.,\n",
              "       0., 0., 0., 0., 0., 0., 0., 0., 0., 0., 0., 0., 0., 0., 0., 0., 0.,\n",
              "       0., 0., 0., 0., 0., 0., 0., 0., 0., 0., 0., 0., 0., 0., 0., 0., 0.,\n",
              "       0., 0., 0., 0., 0., 0., 0., 0., 0., 0., 0., 0., 0., 0., 0., 0., 0.,\n",
              "       0., 0., 0., 0., 0., 0., 0., 0., 0., 0., 0., 0., 0., 0., 0., 0., 0.,\n",
              "       0., 0., 0., 0., 0., 0., 0., 0., 0., 0., 0., 0., 0., 0., 0., 0., 0.,\n",
              "       0., 0., 0., 0., 0., 0., 0., 0., 0., 0., 0., 0., 0., 0., 0., 0., 0.,\n",
              "       0., 0., 0., 0., 0., 0., 0., 0., 0., 0., 0., 0., 0., 0., 0., 0., 0.,\n",
              "       0., 0., 0., 0., 0., 0., 0., 0., 0., 0., 0., 0., 0., 0., 0., 0., 0.,\n",
              "       0., 0., 0., 0., 0., 0., 0., 0., 0., 0., 0., 0., 0., 0., 0., 0., 0.,\n",
              "       0., 0., 0., 0., 0., 0., 0., 0., 0., 0., 0., 0., 0., 0., 0., 0., 0.,\n",
              "       0., 0., 0., 0., 0., 0., 0., 0., 0., 0., 0., 0., 0., 0., 0., 0., 0.,\n",
              "       0., 0., 0., 0., 0., 0., 0., 0., 0., 0., 0., 0., 0., 0., 0., 0., 0.,\n",
              "       0., 0., 0., 0., 0., 0., 0., 0., 0., 0., 0., 0., 0., 0., 0., 0., 0.,\n",
              "       0., 0., 0., 0., 0., 0., 0., 0., 0., 0., 0., 0., 0., 0., 0., 0., 0.,\n",
              "       0., 0., 0., 0., 0., 0., 0., 0., 0., 0., 0., 0., 0., 0., 0., 0., 0.,\n",
              "       0., 0., 0., 0., 0., 0., 0., 0., 0., 0., 0., 0., 0., 0., 0., 0., 0.,\n",
              "       0., 0., 0., 0., 0., 0., 0., 0., 0., 0., 0., 0., 0., 0., 0., 0., 0.,\n",
              "       0., 0., 0., 0., 0., 0., 0., 0., 0., 0., 0., 0., 0., 0., 0., 0., 0.,\n",
              "       0., 0., 0., 1., 1., 1., 1., 1., 1., 1., 1., 1., 1., 1., 1., 1., 1.,\n",
              "       1., 1., 1., 1., 1., 1., 1., 1., 1., 1., 1., 1., 1., 1., 1., 1., 1.,\n",
              "       1., 1., 1., 1., 1., 1., 1., 1., 1., 1., 1., 1., 1., 1., 1., 1., 1.,\n",
              "       1., 1., 1., 1., 1., 1., 1., 1., 1., 1., 1., 1., 1., 1., 1., 1., 1.,\n",
              "       1., 1., 1., 1., 1., 1., 1., 1., 1., 1., 1., 1., 1., 1., 1., 1., 1.,\n",
              "       1., 1., 1., 1., 1., 1., 1., 1., 1., 1., 1., 1., 1., 1., 1., 1., 1.,\n",
              "       1., 1., 1., 1., 1., 1., 1., 1., 1., 1., 1., 1., 1., 1., 1., 1., 1.,\n",
              "       1., 1., 1., 1., 1., 1., 1., 1., 1., 1., 1., 1., 1., 1., 1., 1., 1.,\n",
              "       1., 1., 1., 1., 1., 1., 1., 1., 1., 1., 1., 1., 1., 1., 1., 1., 1.,\n",
              "       1., 1., 1., 1., 1., 1., 1., 1., 1., 1., 1., 1., 1., 1., 1., 1., 1.,\n",
              "       1., 1., 1., 1., 1., 1., 1., 1., 1., 1., 1., 1., 1., 1., 1., 1., 1.,\n",
              "       1., 1., 1., 1., 1., 1., 1., 1., 1., 1., 1., 1., 1., 1., 1., 1., 1.,\n",
              "       1., 1., 1., 1., 1., 1., 1., 1., 1., 1., 1., 1., 1., 1., 1., 1., 1.,\n",
              "       1., 1., 1., 1., 1., 1., 1., 1., 1., 1., 1., 1., 1., 1., 1., 1., 1.,\n",
              "       1., 1., 1., 1., 1., 1., 1., 1., 1., 1., 1., 1., 1., 1., 1., 1., 1.,\n",
              "       1., 1., 1., 1., 1., 1., 1., 1., 1., 1., 1., 1., 1., 1., 1., 1., 1.,\n",
              "       1., 1., 1., 1., 1., 1., 1., 1., 1., 1., 1., 1., 1., 1., 1., 1., 1.,\n",
              "       1., 1., 1., 1., 1., 1., 1., 1., 1., 1., 1., 1., 1., 1., 1., 1., 1.,\n",
              "       1., 1., 1., 1., 1., 1., 1., 1., 1., 1., 1., 1., 1., 1., 1., 1., 1.])"
            ]
          },
          "metadata": {},
          "execution_count": 8
        }
      ]
    },
    {
      "cell_type": "code",
      "source": [
        "X_train, X_rest, y_train, y_rest = train_test_split(data_ft, data_clas, test_size = 0.3, random_state = 42)\n"
      ],
      "metadata": {
        "id": "wPJMjlC3r2Wp"
      },
      "execution_count": 9,
      "outputs": []
    },
    {
      "cell_type": "code",
      "source": [
        "X_val, X_test, y_val, y_test = train_test_split(X_rest, y_rest, test_size = 0.9, random_state = 61)\n"
      ],
      "metadata": {
        "id": "9jgwh8Z-r5uV"
      },
      "execution_count": 10,
      "outputs": []
    },
    {
      "cell_type": "code",
      "source": [
        "print(\"X_train:\",X_train.shape, \",\" , \"X_val:\", X_val.shape, \",\" , \"X_test:\", X_test.shape)\n",
        "print(\"y_train:\",y_train.shape, \",\" , \"y_val:\", y_val.shape, \",\" , \"y_test:\", y_test.shape)"
      ],
      "metadata": {
        "colab": {
          "base_uri": "https://localhost:8080/"
        },
        "id": "5cxCG89UsBMz",
        "outputId": "a3a4a1b9-014b-47fe-dc5d-0385da64d4ef"
      },
      "execution_count": 11,
      "outputs": [
        {
          "output_type": "stream",
          "name": "stdout",
          "text": [
            "X_train: (535, 2) , X_val: (23, 2) , X_test: (207, 2)\n",
            "y_train: (535,) , y_val: (23,) , y_test: (207,)\n"
          ]
        }
      ]
    },
    {
      "cell_type": "markdown",
      "source": [
        "# 2. Train two single/double hidden layer deep networks by varying the number of hidden nodes (4, 8, 12, 16) in each layer\n",
        "** Single Hidden Layer Deep network **\n"
      ],
      "metadata": {
        "id": "NauhuG__sL_M"
      }
    },
    {
      "cell_type": "markdown",
      "source": [
        "**4 hidden nodes**"
      ],
      "metadata": {
        "id": "13UA3pBCvQFS"
      }
    },
    {
      "cell_type": "code",
      "source": [
        "model1 = tf.keras.Sequential()\n",
        "\n",
        "model1.add(tf.keras.Input(shape=(2,)))\n",
        "model1.add(tf.keras.layers.Dense(4, activation='relu'))\n",
        "model1.add(tf.keras.layers.Dense(1, activation=\"sigmoid\"))\n",
        "\n",
        "model1.summary()"
      ],
      "metadata": {
        "colab": {
          "base_uri": "https://localhost:8080/"
        },
        "id": "FDH2TJrosSH8",
        "outputId": "2f3786e8-0fad-4842-8187-948c8bf764d0"
      },
      "execution_count": 12,
      "outputs": [
        {
          "output_type": "stream",
          "name": "stdout",
          "text": [
            "Model: \"sequential\"\n",
            "_________________________________________________________________\n",
            " Layer (type)                Output Shape              Param #   \n",
            "=================================================================\n",
            " dense (Dense)               (None, 4)                 12        \n",
            "                                                                 \n",
            " dense_1 (Dense)             (None, 1)                 5         \n",
            "                                                                 \n",
            "=================================================================\n",
            "Total params: 17\n",
            "Trainable params: 17\n",
            "Non-trainable params: 0\n",
            "_________________________________________________________________\n"
          ]
        }
      ]
    },
    {
      "cell_type": "code",
      "source": [
        "# loss function\n",
        "loss_fn = tf.keras.losses.BinaryCrossentropy()\n",
        "\n",
        "# optimizer\n",
        "optimizer = tf.keras.optimizers.Adam(0.003)\n",
        "model1.compile(optimizer=optimizer,\n",
        "              loss=loss_fn,\n",
        "              metrics=['accuracy'],\n",
        "              )"
      ],
      "metadata": {
        "id": "a-AwsBKatQAM"
      },
      "execution_count": 13,
      "outputs": []
    },
    {
      "cell_type": "code",
      "source": [
        "history = model1.fit(X_train,y_train,batch_size=16,\n",
        "                epochs=15,\n",
        "                validation_data=(X_test,y_test),\n",
        "                verbose=True)"
      ],
      "metadata": {
        "colab": {
          "base_uri": "https://localhost:8080/"
        },
        "id": "0lahe4q6tTXF",
        "outputId": "8d3b146b-208d-4a15-f217-f3f51835726b"
      },
      "execution_count": 14,
      "outputs": [
        {
          "output_type": "stream",
          "name": "stdout",
          "text": [
            "Epoch 1/15\n",
            "34/34 [==============================] - 1s 9ms/step - loss: 0.6694 - accuracy: 0.5776 - val_loss: 0.6786 - val_accuracy: 0.5797\n",
            "Epoch 2/15\n",
            "34/34 [==============================] - 0s 4ms/step - loss: 0.6684 - accuracy: 0.5776 - val_loss: 0.6780 - val_accuracy: 0.5797\n",
            "Epoch 3/15\n",
            "34/34 [==============================] - 0s 4ms/step - loss: 0.6676 - accuracy: 0.5776 - val_loss: 0.6770 - val_accuracy: 0.5797\n",
            "Epoch 4/15\n",
            "34/34 [==============================] - 0s 3ms/step - loss: 0.6669 - accuracy: 0.5776 - val_loss: 0.6762 - val_accuracy: 0.5797\n",
            "Epoch 5/15\n",
            "34/34 [==============================] - 0s 3ms/step - loss: 0.6657 - accuracy: 0.5776 - val_loss: 0.6748 - val_accuracy: 0.5797\n",
            "Epoch 6/15\n",
            "34/34 [==============================] - 0s 3ms/step - loss: 0.6648 - accuracy: 0.5776 - val_loss: 0.6741 - val_accuracy: 0.5749\n",
            "Epoch 7/15\n",
            "34/34 [==============================] - 0s 5ms/step - loss: 0.6642 - accuracy: 0.5776 - val_loss: 0.6736 - val_accuracy: 0.5749\n",
            "Epoch 8/15\n",
            "34/34 [==============================] - 0s 3ms/step - loss: 0.6637 - accuracy: 0.5776 - val_loss: 0.6721 - val_accuracy: 0.5749\n",
            "Epoch 9/15\n",
            "34/34 [==============================] - 0s 3ms/step - loss: 0.6629 - accuracy: 0.5738 - val_loss: 0.6716 - val_accuracy: 0.5700\n",
            "Epoch 10/15\n",
            "34/34 [==============================] - 0s 3ms/step - loss: 0.6620 - accuracy: 0.5682 - val_loss: 0.6710 - val_accuracy: 0.5749\n",
            "Epoch 11/15\n",
            "34/34 [==============================] - 0s 3ms/step - loss: 0.6612 - accuracy: 0.5682 - val_loss: 0.6703 - val_accuracy: 0.5700\n",
            "Epoch 12/15\n",
            "34/34 [==============================] - 0s 4ms/step - loss: 0.6606 - accuracy: 0.5682 - val_loss: 0.6692 - val_accuracy: 0.5749\n",
            "Epoch 13/15\n",
            "34/34 [==============================] - 0s 3ms/step - loss: 0.6601 - accuracy: 0.5664 - val_loss: 0.6694 - val_accuracy: 0.5700\n",
            "Epoch 14/15\n",
            "34/34 [==============================] - 0s 3ms/step - loss: 0.6593 - accuracy: 0.5701 - val_loss: 0.6690 - val_accuracy: 0.5507\n",
            "Epoch 15/15\n",
            "34/34 [==============================] - 0s 4ms/step - loss: 0.6584 - accuracy: 0.5720 - val_loss: 0.6682 - val_accuracy: 0.5411\n"
          ]
        }
      ]
    },
    {
      "cell_type": "code",
      "source": [
        "results = model1.evaluate(X_val,y_val, verbose=1)\n",
        "\n",
        "for name, value in zip(model1.metrics_names, results):\n",
        "  print(\"%s: %.3f\" % (name, value))"
      ],
      "metadata": {
        "colab": {
          "base_uri": "https://localhost:8080/"
        },
        "id": "2dJGetH0tVa-",
        "outputId": "f267aab2-5518-4666-881e-5b51a6c3b68c"
      },
      "execution_count": 15,
      "outputs": [
        {
          "output_type": "stream",
          "name": "stdout",
          "text": [
            "1/1 [==============================] - 0s 24ms/step - loss: 0.5589 - accuracy: 0.7391\n",
            "loss: 0.559\n",
            "accuracy: 0.739\n"
          ]
        }
      ]
    },
    {
      "cell_type": "markdown",
      "source": [
        "Use appropriate learning rate, activation, and loss functions and also mention the reason for choosing the same.\n",
        "\n",
        "Applied a learning rate of 0.003 (If the learning rate is high, then training may not converge or even diverge.\n",
        "                                  Changes in the weight are going to be  big which let optimizer overshoots the minimum and makes the loss worse in this case. \n",
        "                                  So we have chosen between 0.001 and 0.01 and compared their accuracy performance. \n",
        "                                  And having a  very less learning rate takes a very long  time to train and test the model)\n",
        "\n",
        "Here we have used the ReLU activation function for hidden layer because it is less affeted by vanishing gradients that prevent deep models from being trained.\n",
        "\n",
        "The given problem is logistic regression classification so we use a Sigmoid function in the output layer which takes a real value as input and outputs values in the range 0 to 1.\n",
        "\n",
        "A Binary Cross entropy loss function is used since the class label is a binary (0 or 1) classification "
      ],
      "metadata": {
        "id": "hZGwm6hFvwTc"
      }
    },
    {
      "cell_type": "markdown",
      "source": [
        "Report, compare, and explain the observed accuracy and minimum loss achieved.\n",
        "\n",
        "Loss achieved: 0.559\n",
        "\n",
        "Observed Accuracy: 0.739"
      ],
      "metadata": {
        "id": "ukzryyMFv6uH"
      }
    },
    {
      "cell_type": "markdown",
      "source": [
        "**8 hidden nodes**"
      ],
      "metadata": {
        "id": "o07Mdvicv0wT"
      }
    },
    {
      "cell_type": "code",
      "source": [
        "model2 = tf.keras.Sequential()\n",
        "\n",
        "model2.add(tf.keras.Input(shape=(2,)))\n",
        "model2.add(tf.keras.layers.Dense(8, activation='relu'))\n",
        "model2.add(tf.keras.layers.Dense(1, activation=\"sigmoid\"))\n",
        "\n",
        "model2.summary()"
      ],
      "metadata": {
        "colab": {
          "base_uri": "https://localhost:8080/"
        },
        "id": "SVX5yan8umyp",
        "outputId": "b472d5a8-0f4b-4427-8214-bbd8b5a4fa54"
      },
      "execution_count": 16,
      "outputs": [
        {
          "output_type": "stream",
          "name": "stdout",
          "text": [
            "Model: \"sequential_1\"\n",
            "_________________________________________________________________\n",
            " Layer (type)                Output Shape              Param #   \n",
            "=================================================================\n",
            " dense_2 (Dense)             (None, 8)                 24        \n",
            "                                                                 \n",
            " dense_3 (Dense)             (None, 1)                 9         \n",
            "                                                                 \n",
            "=================================================================\n",
            "Total params: 33\n",
            "Trainable params: 33\n",
            "Non-trainable params: 0\n",
            "_________________________________________________________________\n"
          ]
        }
      ]
    },
    {
      "cell_type": "markdown",
      "source": [
        ""
      ],
      "metadata": {
        "id": "9633Gf6Mta4H"
      }
    },
    {
      "cell_type": "code",
      "source": [
        "# loss function\n",
        "loss_fn = tf.keras.losses.BinaryCrossentropy()\n",
        "\n",
        "# optimizer\n",
        "optimizer = tf.keras.optimizers.Adam(0.003)\n",
        "model2.compile(optimizer=optimizer,\n",
        "              loss=loss_fn,\n",
        "              metrics=['accuracy'],\n",
        "              )"
      ],
      "metadata": {
        "id": "HBpQgIN8urJm"
      },
      "execution_count": 17,
      "outputs": []
    },
    {
      "cell_type": "code",
      "source": [
        "history = model2.fit(X_train,y_train,batch_size=16,\n",
        "                epochs=15,\n",
        "                validation_data=(X_test,y_test),\n",
        "                verbose=True)"
      ],
      "metadata": {
        "colab": {
          "base_uri": "https://localhost:8080/"
        },
        "id": "aQLSiK3iurM6",
        "outputId": "2efd18be-0733-48ec-9c69-dc459ba2e964"
      },
      "execution_count": 18,
      "outputs": [
        {
          "output_type": "stream",
          "name": "stdout",
          "text": [
            "Epoch 1/15\n",
            "34/34 [==============================] - 1s 7ms/step - loss: 0.7115 - accuracy: 0.5121 - val_loss: 0.7072 - val_accuracy: 0.4734\n",
            "Epoch 2/15\n",
            "34/34 [==============================] - 0s 3ms/step - loss: 0.6893 - accuracy: 0.5383 - val_loss: 0.6943 - val_accuracy: 0.5217\n",
            "Epoch 3/15\n",
            "34/34 [==============================] - 0s 4ms/step - loss: 0.6816 - accuracy: 0.5533 - val_loss: 0.6908 - val_accuracy: 0.5411\n",
            "Epoch 4/15\n",
            "34/34 [==============================] - 0s 3ms/step - loss: 0.6792 - accuracy: 0.5439 - val_loss: 0.6875 - val_accuracy: 0.5411\n",
            "Epoch 5/15\n",
            "34/34 [==============================] - 0s 4ms/step - loss: 0.6777 - accuracy: 0.5551 - val_loss: 0.6859 - val_accuracy: 0.5507\n",
            "Epoch 6/15\n",
            "34/34 [==============================] - 0s 3ms/step - loss: 0.6761 - accuracy: 0.5514 - val_loss: 0.6844 - val_accuracy: 0.5556\n",
            "Epoch 7/15\n",
            "34/34 [==============================] - 0s 3ms/step - loss: 0.6746 - accuracy: 0.5570 - val_loss: 0.6825 - val_accuracy: 0.5749\n",
            "Epoch 8/15\n",
            "34/34 [==============================] - 0s 3ms/step - loss: 0.6737 - accuracy: 0.5626 - val_loss: 0.6816 - val_accuracy: 0.5749\n",
            "Epoch 9/15\n",
            "34/34 [==============================] - 0s 3ms/step - loss: 0.6727 - accuracy: 0.5626 - val_loss: 0.6809 - val_accuracy: 0.5749\n",
            "Epoch 10/15\n",
            "34/34 [==============================] - 0s 3ms/step - loss: 0.6718 - accuracy: 0.5607 - val_loss: 0.6804 - val_accuracy: 0.5749\n",
            "Epoch 11/15\n",
            "34/34 [==============================] - 0s 4ms/step - loss: 0.6711 - accuracy: 0.5664 - val_loss: 0.6790 - val_accuracy: 0.5749\n",
            "Epoch 12/15\n",
            "34/34 [==============================] - 0s 3ms/step - loss: 0.6703 - accuracy: 0.5720 - val_loss: 0.6783 - val_accuracy: 0.5797\n",
            "Epoch 13/15\n",
            "34/34 [==============================] - 0s 3ms/step - loss: 0.6694 - accuracy: 0.5720 - val_loss: 0.6774 - val_accuracy: 0.5797\n",
            "Epoch 14/15\n",
            "34/34 [==============================] - 0s 4ms/step - loss: 0.6685 - accuracy: 0.5776 - val_loss: 0.6763 - val_accuracy: 0.5797\n",
            "Epoch 15/15\n",
            "34/34 [==============================] - 0s 3ms/step - loss: 0.6677 - accuracy: 0.5776 - val_loss: 0.6755 - val_accuracy: 0.5797\n"
          ]
        }
      ]
    },
    {
      "cell_type": "code",
      "source": [
        "results = model2.evaluate(X_val,y_val, verbose=1)\n",
        "\n",
        "for name, value in zip(model2.metrics_names, results):\n",
        "  print(\"%s: %.3f\" % (name, value))"
      ],
      "metadata": {
        "colab": {
          "base_uri": "https://localhost:8080/"
        },
        "id": "vKIAkYfEuuNm",
        "outputId": "cf22a334-8b08-4263-cedb-6cb46c37d941"
      },
      "execution_count": 19,
      "outputs": [
        {
          "output_type": "stream",
          "name": "stdout",
          "text": [
            "1/1 [==============================] - 0s 28ms/step - loss: 0.5845 - accuracy: 0.6957\n",
            "loss: 0.585\n",
            "accuracy: 0.696\n"
          ]
        }
      ]
    },
    {
      "cell_type": "markdown",
      "source": [
        "Use appropriate learning rate, activation, and loss functions and also mention the reason for choosing the same.\n",
        "\n",
        "Applied a learning rate of 0.003 (If the learning rate is high, then training may not converge or even diverge. Changes in the weight are going to be big which let optimizer overshoots the minimum and makes the loss worse in this case. So we have chosen between 0.001 and 0.01 and compared their accuracy performance. And having a very less learning rate takes a very long time to train and test the model)\n",
        "\n",
        "Here we have used the ReLU activation function for hidden layer because it is less affeted by vanishing gradients that prevent deep models from being trained.\n",
        "\n",
        "The given problem is logistic regression classification so we use a Sigmoid function in the output layer which takes a real value as input and outputs values in the range 0 to 1.\n",
        "\n",
        "A Binary Cross entropy loss function is used since the class label is a binary (0 or 1) classification"
      ],
      "metadata": {
        "id": "rK8yHAHEwol5"
      }
    },
    {
      "cell_type": "markdown",
      "source": [
        "Use appropriate learning rate, activation, and loss functions and also mention the reason for choosing the same.\n",
        "\n",
        "Report, compare, and explain the observed accuracy and minimum loss achieved.\n",
        "\n",
        "Loss achieved: 0.585\n",
        "\n",
        "Observed Accuracy:  0.696"
      ],
      "metadata": {
        "id": "AmQ15H916RMV"
      }
    },
    {
      "cell_type": "markdown",
      "source": [
        "**12 hidden nodes**"
      ],
      "metadata": {
        "id": "B00973Hgw3IL"
      }
    },
    {
      "cell_type": "code",
      "source": [
        "model3 = tf.keras.Sequential()\n",
        "\n",
        "model3.add(tf.keras.Input(shape=(2,)))\n",
        "model3.add(tf.keras.layers.Dense(12, activation='relu'))\n",
        "model3.add(tf.keras.layers.Dense(1, activation=\"sigmoid\"))\n",
        "\n",
        "model3.summary()"
      ],
      "metadata": {
        "colab": {
          "base_uri": "https://localhost:8080/"
        },
        "id": "mcz0EPLKxIf2",
        "outputId": "90136206-01ab-4557-d417-6af92b8e7f2a"
      },
      "execution_count": 20,
      "outputs": [
        {
          "output_type": "stream",
          "name": "stdout",
          "text": [
            "Model: \"sequential_2\"\n",
            "_________________________________________________________________\n",
            " Layer (type)                Output Shape              Param #   \n",
            "=================================================================\n",
            " dense_4 (Dense)             (None, 12)                36        \n",
            "                                                                 \n",
            " dense_5 (Dense)             (None, 1)                 13        \n",
            "                                                                 \n",
            "=================================================================\n",
            "Total params: 49\n",
            "Trainable params: 49\n",
            "Non-trainable params: 0\n",
            "_________________________________________________________________\n"
          ]
        }
      ]
    },
    {
      "cell_type": "code",
      "source": [
        "# loss function\n",
        "loss_fn = tf.keras.losses.BinaryCrossentropy()\n",
        "\n",
        "# optimizer\n",
        "optimizer = tf.keras.optimizers.Adam(0.03)\n",
        "model3.compile(optimizer=optimizer,\n",
        "              loss=loss_fn,\n",
        "              metrics=['accuracy'],\n",
        "              )"
      ],
      "metadata": {
        "id": "Ux6ZQlbOxKm1"
      },
      "execution_count": 21,
      "outputs": []
    },
    {
      "cell_type": "code",
      "source": [
        "history = model3.fit(X_train,y_train,batch_size=16,\n",
        "                epochs=15,\n",
        "                validation_data=(X_test,y_test),\n",
        "                verbose=True)"
      ],
      "metadata": {
        "colab": {
          "base_uri": "https://localhost:8080/"
        },
        "id": "cuW8BNsqxNoB",
        "outputId": "fee375e9-48b5-4733-eef1-9378ce2662bd"
      },
      "execution_count": 22,
      "outputs": [
        {
          "output_type": "stream",
          "name": "stdout",
          "text": [
            "Epoch 1/15\n",
            "34/34 [==============================] - 1s 8ms/step - loss: 0.6752 - accuracy: 0.5664 - val_loss: 0.6695 - val_accuracy: 0.5797\n",
            "Epoch 2/15\n",
            "34/34 [==============================] - 0s 3ms/step - loss: 0.6731 - accuracy: 0.5682 - val_loss: 0.6679 - val_accuracy: 0.5797\n",
            "Epoch 3/15\n",
            "34/34 [==============================] - 0s 3ms/step - loss: 0.6647 - accuracy: 0.5813 - val_loss: 0.6602 - val_accuracy: 0.5990\n",
            "Epoch 4/15\n",
            "34/34 [==============================] - 0s 3ms/step - loss: 0.6540 - accuracy: 0.5533 - val_loss: 0.6656 - val_accuracy: 0.5797\n",
            "Epoch 5/15\n",
            "34/34 [==============================] - 0s 3ms/step - loss: 0.6588 - accuracy: 0.5850 - val_loss: 0.6463 - val_accuracy: 0.5797\n",
            "Epoch 6/15\n",
            "34/34 [==============================] - 0s 3ms/step - loss: 0.6556 - accuracy: 0.5738 - val_loss: 0.6591 - val_accuracy: 0.5749\n",
            "Epoch 7/15\n",
            "34/34 [==============================] - 0s 3ms/step - loss: 0.6476 - accuracy: 0.5701 - val_loss: 0.6424 - val_accuracy: 0.5749\n",
            "Epoch 8/15\n",
            "34/34 [==============================] - 0s 4ms/step - loss: 0.6392 - accuracy: 0.5925 - val_loss: 0.6432 - val_accuracy: 0.5749\n",
            "Epoch 9/15\n",
            "34/34 [==============================] - 0s 4ms/step - loss: 0.6511 - accuracy: 0.5832 - val_loss: 0.6470 - val_accuracy: 0.5217\n",
            "Epoch 10/15\n",
            "34/34 [==============================] - 0s 3ms/step - loss: 0.6254 - accuracy: 0.5888 - val_loss: 0.6354 - val_accuracy: 0.5700\n",
            "Epoch 11/15\n",
            "34/34 [==============================] - 0s 3ms/step - loss: 0.6331 - accuracy: 0.5869 - val_loss: 0.6442 - val_accuracy: 0.5604\n",
            "Epoch 12/15\n",
            "34/34 [==============================] - 0s 3ms/step - loss: 0.6294 - accuracy: 0.5738 - val_loss: 0.6398 - val_accuracy: 0.5266\n",
            "Epoch 13/15\n",
            "34/34 [==============================] - 0s 3ms/step - loss: 0.6287 - accuracy: 0.5551 - val_loss: 0.6379 - val_accuracy: 0.5072\n",
            "Epoch 14/15\n",
            "34/34 [==============================] - 0s 3ms/step - loss: 0.6210 - accuracy: 0.5645 - val_loss: 0.6333 - val_accuracy: 0.4976\n",
            "Epoch 15/15\n",
            "34/34 [==============================] - 0s 3ms/step - loss: 0.6155 - accuracy: 0.5570 - val_loss: 0.6369 - val_accuracy: 0.5072\n"
          ]
        }
      ]
    },
    {
      "cell_type": "code",
      "source": [
        "results = model3.evaluate(X_val,y_val, verbose=1)\n",
        "\n",
        "for name, value in zip(model3.metrics_names, results):\n",
        "  print(\"%s: %.3f\" % (name, value))"
      ],
      "metadata": {
        "colab": {
          "base_uri": "https://localhost:8080/"
        },
        "id": "1EXhlX8bxPdd",
        "outputId": "675d1d73-1ffc-4651-d0d8-68bd372204f8"
      },
      "execution_count": 23,
      "outputs": [
        {
          "output_type": "stream",
          "name": "stdout",
          "text": [
            "1/1 [==============================] - 0s 26ms/step - loss: 0.4512 - accuracy: 0.7826\n",
            "loss: 0.451\n",
            "accuracy: 0.783\n"
          ]
        }
      ]
    },
    {
      "cell_type": "markdown",
      "source": [
        "Report, compare, and explain the observed accuracy and minimum loss achieved.\n",
        "Loss achieved: 0.451\n",
        "Observed Accuracy: 0.783"
      ],
      "metadata": {
        "id": "WBJNIizQ7Rik"
      }
    },
    {
      "cell_type": "markdown",
      "source": [
        "**16 hidden nodes**"
      ],
      "metadata": {
        "id": "Y-_AZJftxYZK"
      }
    },
    {
      "cell_type": "code",
      "source": [
        "model4 = tf.keras.Sequential()\n",
        "\n",
        "model4.add(tf.keras.Input(shape=(2,)))\n",
        "model4.add(tf.keras.layers.Dense(16, activation='relu'))\n",
        "model4.add(tf.keras.layers.Dense(1, activation=\"sigmoid\"))\n",
        "\n",
        "model4.summary()"
      ],
      "metadata": {
        "colab": {
          "base_uri": "https://localhost:8080/"
        },
        "id": "AN2eQ4jAxg00",
        "outputId": "030095b7-39b2-4f4b-aa96-abdbbd5a65b1"
      },
      "execution_count": 24,
      "outputs": [
        {
          "output_type": "stream",
          "name": "stdout",
          "text": [
            "Model: \"sequential_3\"\n",
            "_________________________________________________________________\n",
            " Layer (type)                Output Shape              Param #   \n",
            "=================================================================\n",
            " dense_6 (Dense)             (None, 16)                48        \n",
            "                                                                 \n",
            " dense_7 (Dense)             (None, 1)                 17        \n",
            "                                                                 \n",
            "=================================================================\n",
            "Total params: 65\n",
            "Trainable params: 65\n",
            "Non-trainable params: 0\n",
            "_________________________________________________________________\n"
          ]
        }
      ]
    },
    {
      "cell_type": "code",
      "source": [
        "# loss function\n",
        "loss_fn = tf.keras.losses.BinaryCrossentropy()\n",
        "\n",
        "# optimizer\n",
        "optimizer = tf.keras.optimizers.Adam(0.0003)\n",
        "model4.compile(optimizer=optimizer,\n",
        "              loss=loss_fn,\n",
        "              metrics=['accuracy'],\n",
        "              )"
      ],
      "metadata": {
        "id": "OnAuQ0XWxi4c"
      },
      "execution_count": 25,
      "outputs": []
    },
    {
      "cell_type": "code",
      "source": [
        "history = model4.fit(X_train,y_train,batch_size=16,\n",
        "                epochs=15,\n",
        "                validation_data=(X_test,y_test),\n",
        "                verbose=True)"
      ],
      "metadata": {
        "colab": {
          "base_uri": "https://localhost:8080/"
        },
        "id": "bnWz7djHxlWS",
        "outputId": "f95f57b0-e8ef-4053-d2fd-61cc35232e58"
      },
      "execution_count": 26,
      "outputs": [
        {
          "output_type": "stream",
          "name": "stdout",
          "text": [
            "Epoch 1/15\n",
            "34/34 [==============================] - 1s 8ms/step - loss: 0.7484 - accuracy: 0.4224 - val_loss: 0.7440 - val_accuracy: 0.4300\n",
            "Epoch 2/15\n",
            "34/34 [==============================] - 0s 3ms/step - loss: 0.7419 - accuracy: 0.4318 - val_loss: 0.7381 - val_accuracy: 0.4493\n",
            "Epoch 3/15\n",
            "34/34 [==============================] - 0s 3ms/step - loss: 0.7357 - accuracy: 0.4393 - val_loss: 0.7332 - val_accuracy: 0.4541\n",
            "Epoch 4/15\n",
            "34/34 [==============================] - 0s 3ms/step - loss: 0.7301 - accuracy: 0.4486 - val_loss: 0.7285 - val_accuracy: 0.4348\n",
            "Epoch 5/15\n",
            "34/34 [==============================] - 0s 4ms/step - loss: 0.7252 - accuracy: 0.4355 - val_loss: 0.7247 - val_accuracy: 0.4251\n",
            "Epoch 6/15\n",
            "34/34 [==============================] - 0s 3ms/step - loss: 0.7208 - accuracy: 0.4411 - val_loss: 0.7209 - val_accuracy: 0.4638\n",
            "Epoch 7/15\n",
            "34/34 [==============================] - 0s 3ms/step - loss: 0.7168 - accuracy: 0.4150 - val_loss: 0.7177 - val_accuracy: 0.4155\n",
            "Epoch 8/15\n",
            "34/34 [==============================] - 0s 3ms/step - loss: 0.7134 - accuracy: 0.4318 - val_loss: 0.7147 - val_accuracy: 0.4348\n",
            "Epoch 9/15\n",
            "34/34 [==============================] - 0s 4ms/step - loss: 0.7102 - accuracy: 0.4598 - val_loss: 0.7123 - val_accuracy: 0.4348\n",
            "Epoch 10/15\n",
            "34/34 [==============================] - 0s 5ms/step - loss: 0.7074 - accuracy: 0.4505 - val_loss: 0.7100 - val_accuracy: 0.4203\n",
            "Epoch 11/15\n",
            "34/34 [==============================] - 0s 3ms/step - loss: 0.7047 - accuracy: 0.4505 - val_loss: 0.7079 - val_accuracy: 0.4155\n",
            "Epoch 12/15\n",
            "34/34 [==============================] - 0s 5ms/step - loss: 0.7025 - accuracy: 0.4467 - val_loss: 0.7059 - val_accuracy: 0.4348\n",
            "Epoch 13/15\n",
            "34/34 [==============================] - 0s 3ms/step - loss: 0.7003 - accuracy: 0.4785 - val_loss: 0.7043 - val_accuracy: 0.4300\n",
            "Epoch 14/15\n",
            "34/34 [==============================] - 0s 3ms/step - loss: 0.6984 - accuracy: 0.4841 - val_loss: 0.7026 - val_accuracy: 0.4444\n",
            "Epoch 15/15\n",
            "34/34 [==============================] - 0s 4ms/step - loss: 0.6967 - accuracy: 0.4953 - val_loss: 0.7015 - val_accuracy: 0.4638\n"
          ]
        }
      ]
    },
    {
      "cell_type": "code",
      "source": [
        "results = model4.evaluate(X_val,y_val, verbose=1)\n",
        "\n",
        "for name, value in zip(model4.metrics_names, results):\n",
        "  print(\"%s: %.3f\" % (name, value))"
      ],
      "metadata": {
        "colab": {
          "base_uri": "https://localhost:8080/"
        },
        "id": "HRGM6N2AxnMz",
        "outputId": "5c36fa51-6066-432a-aa3c-fbbd8a1a0bda"
      },
      "execution_count": 27,
      "outputs": [
        {
          "output_type": "stream",
          "name": "stdout",
          "text": [
            "1/1 [==============================] - 0s 25ms/step - loss: 0.6928 - accuracy: 0.5652\n",
            "loss: 0.693\n",
            "accuracy: 0.565\n"
          ]
        }
      ]
    },
    {
      "cell_type": "markdown",
      "source": [
        "Report, compare, and explain the observed accuracy and minimum loss achieved.\n",
        "\n",
        "Loss achieved: 0.693\n",
        "\n",
        "Observed Accuracy: 0.565"
      ],
      "metadata": {
        "id": "DDNA_jVRxuL7"
      }
    },
    {
      "cell_type": "markdown",
      "source": [
        "### *** Comparison of Single hidden layer with varying hidden nodes ***\n"
      ],
      "metadata": {
        "id": "ZCkNamTM9wMn"
      }
    },
    {
      "cell_type": "code",
      "source": [
        "\n",
        "print(\"4 Hidden nodes\")\n",
        "results = model1.evaluate(X_val,y_val, verbose=0)\n",
        "for name1, value1 in zip(model1.metrics_names, results):\n",
        "  print(\"%s: %.3f\" % (name1, value1))\n",
        "\n",
        "print(\"\\n8 Hidden nodes\")\n",
        "results = model2.evaluate(X_val,y_val, verbose=0)\n",
        "for name2, value2 in zip(model2.metrics_names, results):\n",
        "  print(\"%s: %.3f\" % (name2, value2))\n",
        "\n",
        "print(\"\\n12 Hidden nodes\")\n",
        "results = model3.evaluate(X_val,y_val, verbose=0)\n",
        "for name3, value3 in zip(model3.metrics_names, results):\n",
        "  print(\"%s: %.3f\" % (name3, value3))\n",
        "\n",
        "print(\"\\n16 Hidden nodes\")\n",
        "results = model4.evaluate(X_val,y_val, verbose=0)\n",
        "for name4, value4 in zip(model4.metrics_names, results):\n",
        "  print(\"%s: %.3f\" % (name4, value4))"
      ],
      "metadata": {
        "colab": {
          "base_uri": "https://localhost:8080/"
        },
        "id": "GQQJgufGx34n",
        "outputId": "e762e38e-1a0d-4e7c-ca6a-87ffb2c9086b"
      },
      "execution_count": 28,
      "outputs": [
        {
          "output_type": "stream",
          "name": "stdout",
          "text": [
            "4 Hidden nodes\n",
            "loss: 0.559\n",
            "accuracy: 0.739\n",
            "\n",
            "8 Hidden nodes\n",
            "loss: 0.585\n",
            "accuracy: 0.696\n",
            "\n",
            "12 Hidden nodes\n",
            "loss: 0.451\n",
            "accuracy: 0.783\n",
            "\n",
            "16 Hidden nodes\n",
            "loss: 0.693\n",
            "accuracy: 0.565\n"
          ]
        }
      ]
    },
    {
      "cell_type": "markdown",
      "source": [
        "### **Double Hidden Layer Deep network with varying hidden nodes**"
      ],
      "metadata": {
        "id": "gnI8p24YyBvI"
      }
    },
    {
      "cell_type": "markdown",
      "source": [
        "**4 hidden nodes in each layer**"
      ],
      "metadata": {
        "id": "MQrng-V7yXKY"
      }
    },
    {
      "cell_type": "code",
      "source": [
        "model_1 = tf.keras.Sequential()\n",
        "\n",
        "model_1.add(tf.keras.Input(shape=(2,)))\n",
        "model_1.add(tf.keras.layers.Dense(4, activation='relu'))\n",
        "model_1.add(tf.keras.layers.Dense(4, activation='relu'))\n",
        "model_1.add(tf.keras.layers.Dense(1, activation=\"sigmoid\"))\n",
        "\n",
        "model_1.summary()"
      ],
      "metadata": {
        "colab": {
          "base_uri": "https://localhost:8080/"
        },
        "id": "12t3CfQqx7iz",
        "outputId": "fa1bac0f-c2e1-40e6-bb62-9834195c8ca3"
      },
      "execution_count": 29,
      "outputs": [
        {
          "output_type": "stream",
          "name": "stdout",
          "text": [
            "Model: \"sequential_4\"\n",
            "_________________________________________________________________\n",
            " Layer (type)                Output Shape              Param #   \n",
            "=================================================================\n",
            " dense_8 (Dense)             (None, 4)                 12        \n",
            "                                                                 \n",
            " dense_9 (Dense)             (None, 4)                 20        \n",
            "                                                                 \n",
            " dense_10 (Dense)            (None, 1)                 5         \n",
            "                                                                 \n",
            "=================================================================\n",
            "Total params: 37\n",
            "Trainable params: 37\n",
            "Non-trainable params: 0\n",
            "_________________________________________________________________\n"
          ]
        }
      ]
    },
    {
      "cell_type": "code",
      "source": [
        "# loss function\n",
        "loss_fn = tf.keras.losses.BinaryCrossentropy()\n",
        "\n",
        "# optimizer\n",
        "optimizer = tf.keras.optimizers.Adam(0.0003)\n",
        "model_1.compile(optimizer=optimizer,\n",
        "              loss=loss_fn,\n",
        "              metrics=['accuracy'],\n",
        "              )"
      ],
      "metadata": {
        "id": "MNNxHu1Gybp0"
      },
      "execution_count": 30,
      "outputs": []
    },
    {
      "cell_type": "code",
      "source": [
        "history = model_1.fit(X_train,y_train,batch_size=16,\n",
        "                epochs=15,\n",
        "                validation_data=(X_test,y_test),\n",
        "                verbose=True)"
      ],
      "metadata": {
        "colab": {
          "base_uri": "https://localhost:8080/"
        },
        "id": "OXV1D0CbyeJg",
        "outputId": "b18ee235-3b91-4373-e4c2-b41a8e837f26"
      },
      "execution_count": 31,
      "outputs": [
        {
          "output_type": "stream",
          "name": "stdout",
          "text": [
            "Epoch 1/15\n",
            "34/34 [==============================] - 1s 9ms/step - loss: 0.7249 - accuracy: 0.4542 - val_loss: 0.7130 - val_accuracy: 0.4976\n",
            "Epoch 2/15\n",
            "34/34 [==============================] - 0s 4ms/step - loss: 0.7207 - accuracy: 0.4654 - val_loss: 0.7097 - val_accuracy: 0.5169\n",
            "Epoch 3/15\n",
            "34/34 [==============================] - 0s 3ms/step - loss: 0.7169 - accuracy: 0.4785 - val_loss: 0.7069 - val_accuracy: 0.5411\n",
            "Epoch 4/15\n",
            "34/34 [==============================] - 0s 3ms/step - loss: 0.7138 - accuracy: 0.4822 - val_loss: 0.7042 - val_accuracy: 0.5314\n",
            "Epoch 5/15\n",
            "34/34 [==============================] - 0s 3ms/step - loss: 0.7110 - accuracy: 0.4766 - val_loss: 0.7021 - val_accuracy: 0.5314\n",
            "Epoch 6/15\n",
            "34/34 [==============================] - 0s 4ms/step - loss: 0.7085 - accuracy: 0.4748 - val_loss: 0.7004 - val_accuracy: 0.5266\n",
            "Epoch 7/15\n",
            "34/34 [==============================] - 0s 4ms/step - loss: 0.7065 - accuracy: 0.4636 - val_loss: 0.6987 - val_accuracy: 0.5121\n",
            "Epoch 8/15\n",
            "34/34 [==============================] - 0s 3ms/step - loss: 0.7043 - accuracy: 0.4617 - val_loss: 0.6974 - val_accuracy: 0.5266\n",
            "Epoch 9/15\n",
            "34/34 [==============================] - 0s 3ms/step - loss: 0.7027 - accuracy: 0.4654 - val_loss: 0.6961 - val_accuracy: 0.5169\n",
            "Epoch 10/15\n",
            "34/34 [==============================] - 0s 4ms/step - loss: 0.7009 - accuracy: 0.4617 - val_loss: 0.6951 - val_accuracy: 0.5217\n",
            "Epoch 11/15\n",
            "34/34 [==============================] - 0s 3ms/step - loss: 0.6994 - accuracy: 0.4654 - val_loss: 0.6937 - val_accuracy: 0.5266\n",
            "Epoch 12/15\n",
            "34/34 [==============================] - 0s 4ms/step - loss: 0.6979 - accuracy: 0.4822 - val_loss: 0.6926 - val_accuracy: 0.5411\n",
            "Epoch 13/15\n",
            "34/34 [==============================] - 0s 4ms/step - loss: 0.6965 - accuracy: 0.4822 - val_loss: 0.6916 - val_accuracy: 0.5314\n",
            "Epoch 14/15\n",
            "34/34 [==============================] - 0s 4ms/step - loss: 0.6953 - accuracy: 0.5121 - val_loss: 0.6909 - val_accuracy: 0.5362\n",
            "Epoch 15/15\n",
            "34/34 [==============================] - 0s 3ms/step - loss: 0.6942 - accuracy: 0.5009 - val_loss: 0.6900 - val_accuracy: 0.5507\n"
          ]
        }
      ]
    },
    {
      "cell_type": "code",
      "source": [
        "results = model_1.evaluate(X_val,y_val, verbose=1)\n",
        "\n",
        "for name, value in zip(model_1.metrics_names, results):\n",
        "  print(\"%s: %.3f\" % (name, value))"
      ],
      "metadata": {
        "colab": {
          "base_uri": "https://localhost:8080/"
        },
        "id": "mg7MxA_QygBg",
        "outputId": "8d11fbb5-596e-4d6a-d4e6-bacce04ba781"
      },
      "execution_count": 32,
      "outputs": [
        {
          "output_type": "stream",
          "name": "stdout",
          "text": [
            "1/1 [==============================] - 0s 24ms/step - loss: 0.6950 - accuracy: 0.4348\n",
            "loss: 0.695\n",
            "accuracy: 0.435\n"
          ]
        }
      ]
    },
    {
      "cell_type": "markdown",
      "source": [
        "Report, compare, and explain the observed accuracy and minimum loss achieved.\n",
        "\n",
        "Loss achieved: 0.655\n",
        "\n",
        "Observed Accuracy: 0.435"
      ],
      "metadata": {
        "id": "ksOZjRh_yl2M"
      }
    },
    {
      "cell_type": "markdown",
      "source": [
        "*** 8 hidden nodes in each layer ***\n",
        "\n",
        "\n",
        "\n",
        "\n"
      ],
      "metadata": {
        "id": "NadgxFWAyyNG"
      }
    },
    {
      "cell_type": "code",
      "source": [
        "model_2 = tf.keras.Sequential()\n",
        "\n",
        "model_2.add(tf.keras.Input(shape=(2,)))\n",
        "model_2.add(tf.keras.layers.Dense(8, activation='relu'))\n",
        "model_2.add(tf.keras.layers.Dense(8, activation='relu'))\n",
        "model_2.add(tf.keras.layers.Dense(1, activation=\"sigmoid\"))\n",
        "\n",
        "model_2.summary()"
      ],
      "metadata": {
        "colab": {
          "base_uri": "https://localhost:8080/"
        },
        "id": "IIb4QsAHyi-l",
        "outputId": "c93d1f6b-bb64-44ba-c04f-0539f01ace34"
      },
      "execution_count": 33,
      "outputs": [
        {
          "output_type": "stream",
          "name": "stdout",
          "text": [
            "Model: \"sequential_5\"\n",
            "_________________________________________________________________\n",
            " Layer (type)                Output Shape              Param #   \n",
            "=================================================================\n",
            " dense_11 (Dense)            (None, 8)                 24        \n",
            "                                                                 \n",
            " dense_12 (Dense)            (None, 8)                 72        \n",
            "                                                                 \n",
            " dense_13 (Dense)            (None, 1)                 9         \n",
            "                                                                 \n",
            "=================================================================\n",
            "Total params: 105\n",
            "Trainable params: 105\n",
            "Non-trainable params: 0\n",
            "_________________________________________________________________\n"
          ]
        }
      ]
    },
    {
      "cell_type": "code",
      "source": [
        "# loss function\n",
        "loss_fn = tf.keras.losses.BinaryCrossentropy()\n",
        "\n",
        "# optimizer\n",
        "optimizer = tf.keras.optimizers.Adam(0.003)\n",
        "model_2.compile(optimizer=optimizer,\n",
        "              loss=loss_fn,\n",
        "              metrics=['accuracy'],\n",
        "              )"
      ],
      "metadata": {
        "id": "WvjDLU1ky9iV"
      },
      "execution_count": 34,
      "outputs": []
    },
    {
      "cell_type": "code",
      "source": [
        "history = model_2.fit(X_train,y_train,batch_size=16,\n",
        "                epochs=15,\n",
        "                validation_data=(X_test,y_test),\n",
        "                verbose=True)"
      ],
      "metadata": {
        "colab": {
          "base_uri": "https://localhost:8080/"
        },
        "id": "7E8jmA-Uy_1z",
        "outputId": "834a27a4-2ce3-4563-87fe-7fd18b5f531b"
      },
      "execution_count": 35,
      "outputs": [
        {
          "output_type": "stream",
          "name": "stdout",
          "text": [
            "Epoch 1/15\n",
            "34/34 [==============================] - 1s 8ms/step - loss: 0.6823 - accuracy: 0.5664 - val_loss: 0.6727 - val_accuracy: 0.5797\n",
            "Epoch 2/15\n",
            "34/34 [==============================] - 0s 3ms/step - loss: 0.6751 - accuracy: 0.5776 - val_loss: 0.6676 - val_accuracy: 0.5797\n",
            "Epoch 3/15\n",
            "34/34 [==============================] - 0s 4ms/step - loss: 0.6704 - accuracy: 0.5776 - val_loss: 0.6679 - val_accuracy: 0.5797\n",
            "Epoch 4/15\n",
            "34/34 [==============================] - 0s 3ms/step - loss: 0.6684 - accuracy: 0.5776 - val_loss: 0.6677 - val_accuracy: 0.5797\n",
            "Epoch 5/15\n",
            "34/34 [==============================] - 0s 4ms/step - loss: 0.6652 - accuracy: 0.5776 - val_loss: 0.6658 - val_accuracy: 0.5797\n",
            "Epoch 6/15\n",
            "34/34 [==============================] - 0s 4ms/step - loss: 0.6629 - accuracy: 0.5776 - val_loss: 0.6645 - val_accuracy: 0.5797\n",
            "Epoch 7/15\n",
            "34/34 [==============================] - 0s 6ms/step - loss: 0.6614 - accuracy: 0.5738 - val_loss: 0.6636 - val_accuracy: 0.5556\n",
            "Epoch 8/15\n",
            "34/34 [==============================] - 0s 5ms/step - loss: 0.6590 - accuracy: 0.5682 - val_loss: 0.6620 - val_accuracy: 0.5797\n",
            "Epoch 9/15\n",
            "34/34 [==============================] - 0s 5ms/step - loss: 0.6570 - accuracy: 0.5888 - val_loss: 0.6616 - val_accuracy: 0.5894\n",
            "Epoch 10/15\n",
            "34/34 [==============================] - 0s 7ms/step - loss: 0.6546 - accuracy: 0.5888 - val_loss: 0.6588 - val_accuracy: 0.5942\n",
            "Epoch 11/15\n",
            "34/34 [==============================] - 0s 5ms/step - loss: 0.6531 - accuracy: 0.5850 - val_loss: 0.6569 - val_accuracy: 0.6135\n",
            "Epoch 12/15\n",
            "34/34 [==============================] - 0s 6ms/step - loss: 0.6506 - accuracy: 0.5813 - val_loss: 0.6581 - val_accuracy: 0.5894\n",
            "Epoch 13/15\n",
            "34/34 [==============================] - 0s 7ms/step - loss: 0.6486 - accuracy: 0.5813 - val_loss: 0.6534 - val_accuracy: 0.5990\n",
            "Epoch 14/15\n",
            "34/34 [==============================] - 0s 6ms/step - loss: 0.6472 - accuracy: 0.5907 - val_loss: 0.6515 - val_accuracy: 0.6087\n",
            "Epoch 15/15\n",
            "34/34 [==============================] - 0s 4ms/step - loss: 0.6446 - accuracy: 0.5925 - val_loss: 0.6529 - val_accuracy: 0.5990\n"
          ]
        }
      ]
    },
    {
      "cell_type": "code",
      "source": [
        "results = model_2.evaluate(X_val,y_val, verbose=1)\n",
        "\n",
        "for name, value in zip(model_2.metrics_names, results):\n",
        "  print(\"%s: %.3f\" % (name, value))"
      ],
      "metadata": {
        "colab": {
          "base_uri": "https://localhost:8080/"
        },
        "id": "QdfMasj1zB6s",
        "outputId": "78f4730b-410e-49fa-8971-f2482178fe59"
      },
      "execution_count": 36,
      "outputs": [
        {
          "output_type": "stream",
          "name": "stdout",
          "text": [
            "1/1 [==============================] - 0s 23ms/step - loss: 0.5149 - accuracy: 0.7826\n",
            "loss: 0.515\n",
            "accuracy: 0.783\n"
          ]
        }
      ]
    },
    {
      "cell_type": "markdown",
      "source": [
        "Report, compare, and explain the observed accuracy and minimum loss achieved.\n",
        "\n",
        "Loss achieved: 0.515\n",
        "\n",
        "Observed Accuracy: 0.783"
      ],
      "metadata": {
        "id": "aGkjlG2HzN5T"
      }
    },
    {
      "cell_type": "markdown",
      "source": [
        "**12 hidden nodes in each layer**"
      ],
      "metadata": {
        "id": "fJyOncPNzYqw"
      }
    },
    {
      "cell_type": "code",
      "source": [
        "model_3 = tf.keras.Sequential()\n",
        "\n",
        "model_3.add(tf.keras.Input(shape=(2,)))\n",
        "model_3.add(tf.keras.layers.Dense(12, activation='relu'))\n",
        "model_3.add(tf.keras.layers.Dense(12, activation='relu'))\n",
        "model_3.add(tf.keras.layers.Dense(1, activation=\"sigmoid\"))\n",
        "\n",
        "model_3.summary()"
      ],
      "metadata": {
        "colab": {
          "base_uri": "https://localhost:8080/"
        },
        "id": "w3Rmloc3zFT8",
        "outputId": "1b852566-2a35-4314-be77-113e84f5e3bf"
      },
      "execution_count": 37,
      "outputs": [
        {
          "output_type": "stream",
          "name": "stdout",
          "text": [
            "Model: \"sequential_6\"\n",
            "_________________________________________________________________\n",
            " Layer (type)                Output Shape              Param #   \n",
            "=================================================================\n",
            " dense_14 (Dense)            (None, 12)                36        \n",
            "                                                                 \n",
            " dense_15 (Dense)            (None, 12)                156       \n",
            "                                                                 \n",
            " dense_16 (Dense)            (None, 1)                 13        \n",
            "                                                                 \n",
            "=================================================================\n",
            "Total params: 205\n",
            "Trainable params: 205\n",
            "Non-trainable params: 0\n",
            "_________________________________________________________________\n"
          ]
        }
      ]
    },
    {
      "cell_type": "code",
      "source": [
        "# loss function\n",
        "loss_fn = tf.keras.losses.BinaryCrossentropy()\n",
        "\n",
        "# optimizer\n",
        "optimizer = tf.keras.optimizers.Adam(0.0003)\n",
        "model_3.compile(optimizer=optimizer,\n",
        "              loss=loss_fn,\n",
        "              metrics=['accuracy'],\n",
        "              )"
      ],
      "metadata": {
        "id": "fCbNogkvzc60"
      },
      "execution_count": 38,
      "outputs": []
    },
    {
      "cell_type": "code",
      "source": [
        "history = model_3.fit(X_train,y_train,batch_size=16,\n",
        "                epochs=15,\n",
        "                validation_data=(X_test,y_test),\n",
        "                verbose=True)"
      ],
      "metadata": {
        "colab": {
          "base_uri": "https://localhost:8080/"
        },
        "id": "bL4jzSlZzfcc",
        "outputId": "66c1974f-034a-4fb7-c068-0cd337f15a43"
      },
      "execution_count": 39,
      "outputs": [
        {
          "output_type": "stream",
          "name": "stdout",
          "text": [
            "Epoch 1/15\n",
            "34/34 [==============================] - 1s 8ms/step - loss: 0.6952 - accuracy: 0.4710 - val_loss: 0.6928 - val_accuracy: 0.5266\n",
            "Epoch 2/15\n",
            "34/34 [==============================] - 0s 3ms/step - loss: 0.6914 - accuracy: 0.4953 - val_loss: 0.6899 - val_accuracy: 0.5411\n",
            "Epoch 3/15\n",
            "34/34 [==============================] - 0s 4ms/step - loss: 0.6883 - accuracy: 0.5514 - val_loss: 0.6874 - val_accuracy: 0.5749\n",
            "Epoch 4/15\n",
            "34/34 [==============================] - 0s 3ms/step - loss: 0.6859 - accuracy: 0.5607 - val_loss: 0.6851 - val_accuracy: 0.5556\n",
            "Epoch 5/15\n",
            "34/34 [==============================] - 0s 3ms/step - loss: 0.6840 - accuracy: 0.5757 - val_loss: 0.6834 - val_accuracy: 0.5797\n",
            "Epoch 6/15\n",
            "34/34 [==============================] - 0s 3ms/step - loss: 0.6822 - accuracy: 0.5776 - val_loss: 0.6819 - val_accuracy: 0.5797\n",
            "Epoch 7/15\n",
            "34/34 [==============================] - 0s 3ms/step - loss: 0.6806 - accuracy: 0.5776 - val_loss: 0.6808 - val_accuracy: 0.5797\n",
            "Epoch 8/15\n",
            "34/34 [==============================] - 0s 3ms/step - loss: 0.6792 - accuracy: 0.5776 - val_loss: 0.6795 - val_accuracy: 0.5797\n",
            "Epoch 9/15\n",
            "34/34 [==============================] - 0s 4ms/step - loss: 0.6779 - accuracy: 0.5776 - val_loss: 0.6784 - val_accuracy: 0.5797\n",
            "Epoch 10/15\n",
            "34/34 [==============================] - 0s 3ms/step - loss: 0.6769 - accuracy: 0.5776 - val_loss: 0.6777 - val_accuracy: 0.5797\n",
            "Epoch 11/15\n",
            "34/34 [==============================] - 0s 3ms/step - loss: 0.6760 - accuracy: 0.5776 - val_loss: 0.6772 - val_accuracy: 0.5797\n",
            "Epoch 12/15\n",
            "34/34 [==============================] - 0s 3ms/step - loss: 0.6752 - accuracy: 0.5776 - val_loss: 0.6766 - val_accuracy: 0.5797\n",
            "Epoch 13/15\n",
            "34/34 [==============================] - 0s 3ms/step - loss: 0.6745 - accuracy: 0.5776 - val_loss: 0.6759 - val_accuracy: 0.5797\n",
            "Epoch 14/15\n",
            "34/34 [==============================] - 0s 3ms/step - loss: 0.6738 - accuracy: 0.5776 - val_loss: 0.6754 - val_accuracy: 0.5797\n",
            "Epoch 15/15\n",
            "34/34 [==============================] - 0s 3ms/step - loss: 0.6733 - accuracy: 0.5776 - val_loss: 0.6750 - val_accuracy: 0.5797\n"
          ]
        }
      ]
    },
    {
      "cell_type": "code",
      "source": [
        "results = model_3.evaluate(X_val,y_val, verbose=1)\n",
        "\n",
        "for name, value in zip(model_3.metrics_names, results):\n",
        "  print(\"%s: %.3f\" % (name, value))"
      ],
      "metadata": {
        "colab": {
          "base_uri": "https://localhost:8080/"
        },
        "id": "sLrpz37EzheH",
        "outputId": "ad7359da-1c4d-4848-cde2-ccd925374874"
      },
      "execution_count": 40,
      "outputs": [
        {
          "output_type": "stream",
          "name": "stdout",
          "text": [
            "1/1 [==============================] - 0s 24ms/step - loss: 0.6122 - accuracy: 0.6957\n",
            "loss: 0.612\n",
            "accuracy: 0.696\n"
          ]
        }
      ]
    },
    {
      "cell_type": "markdown",
      "source": [
        "Report, compare, and explain the observed accuracy and minimum loss achieved.\n",
        "\n",
        "Loss achieved:  0.612\n",
        "\n",
        "Observed Accuracy: 0.696"
      ],
      "metadata": {
        "id": "kvuYDw81znQh"
      }
    },
    {
      "cell_type": "markdown",
      "source": [
        "**16 hidden nodes in each layer**\n"
      ],
      "metadata": {
        "id": "AjATeE1Vz37p"
      }
    },
    {
      "cell_type": "code",
      "source": [
        "model_4 = tf.keras.Sequential()\n",
        "\n",
        "model_4.add(tf.keras.Input(shape=(2,)))\n",
        "model_4.add(tf.keras.layers.Dense(16, activation='relu'))\n",
        "model_4.add(tf.keras.layers.Dense(16, activation='relu'))\n",
        "model_4.add(tf.keras.layers.Dense(1, activation=\"sigmoid\"))\n",
        "\n",
        "model_4.summary()"
      ],
      "metadata": {
        "colab": {
          "base_uri": "https://localhost:8080/"
        },
        "id": "7Gc4JOY0zj9U",
        "outputId": "0903c744-b870-499f-ab81-29adc7a28023"
      },
      "execution_count": 41,
      "outputs": [
        {
          "output_type": "stream",
          "name": "stdout",
          "text": [
            "Model: \"sequential_7\"\n",
            "_________________________________________________________________\n",
            " Layer (type)                Output Shape              Param #   \n",
            "=================================================================\n",
            " dense_17 (Dense)            (None, 16)                48        \n",
            "                                                                 \n",
            " dense_18 (Dense)            (None, 16)                272       \n",
            "                                                                 \n",
            " dense_19 (Dense)            (None, 1)                 17        \n",
            "                                                                 \n",
            "=================================================================\n",
            "Total params: 337\n",
            "Trainable params: 337\n",
            "Non-trainable params: 0\n",
            "_________________________________________________________________\n"
          ]
        }
      ]
    },
    {
      "cell_type": "code",
      "source": [
        "# loss function\n",
        "loss_fn = tf.keras.losses.BinaryCrossentropy()\n",
        "\n",
        "# optimizer\n",
        "optimizer = tf.keras.optimizers.Adam(0.003)\n",
        "model_4.compile(optimizer=optimizer,\n",
        "              loss=loss_fn,\n",
        "              metrics=['accuracy'],\n",
        "              )"
      ],
      "metadata": {
        "id": "PVJO5sRz0DOi"
      },
      "execution_count": 42,
      "outputs": []
    },
    {
      "cell_type": "code",
      "source": [
        "history = model_4.fit(X_train,y_train,batch_size=16,\n",
        "                epochs=15,\n",
        "                validation_data=(X_test,y_test),\n",
        "                verbose=True)"
      ],
      "metadata": {
        "colab": {
          "base_uri": "https://localhost:8080/"
        },
        "id": "urBiz1-M0GMM",
        "outputId": "50282c45-6ab0-4cad-c12e-97ee0092f2c2"
      },
      "execution_count": 43,
      "outputs": [
        {
          "output_type": "stream",
          "name": "stdout",
          "text": [
            "Epoch 1/15\n",
            "34/34 [==============================] - 1s 8ms/step - loss: 0.6826 - accuracy: 0.5551 - val_loss: 0.6746 - val_accuracy: 0.5797\n",
            "Epoch 2/15\n",
            "34/34 [==============================] - 0s 3ms/step - loss: 0.6732 - accuracy: 0.5776 - val_loss: 0.6720 - val_accuracy: 0.5797\n",
            "Epoch 3/15\n",
            "34/34 [==============================] - 0s 4ms/step - loss: 0.6693 - accuracy: 0.5776 - val_loss: 0.6718 - val_accuracy: 0.5797\n",
            "Epoch 4/15\n",
            "34/34 [==============================] - 0s 3ms/step - loss: 0.6667 - accuracy: 0.5776 - val_loss: 0.6697 - val_accuracy: 0.5797\n",
            "Epoch 5/15\n",
            "34/34 [==============================] - 0s 3ms/step - loss: 0.6650 - accuracy: 0.5720 - val_loss: 0.6685 - val_accuracy: 0.5459\n",
            "Epoch 6/15\n",
            "34/34 [==============================] - 0s 3ms/step - loss: 0.6609 - accuracy: 0.5589 - val_loss: 0.6662 - val_accuracy: 0.5266\n",
            "Epoch 7/15\n",
            "34/34 [==============================] - 0s 4ms/step - loss: 0.6580 - accuracy: 0.5682 - val_loss: 0.6645 - val_accuracy: 0.5749\n",
            "Epoch 8/15\n",
            "34/34 [==============================] - 0s 3ms/step - loss: 0.6536 - accuracy: 0.5869 - val_loss: 0.6592 - val_accuracy: 0.6425\n",
            "Epoch 9/15\n",
            "34/34 [==============================] - 0s 4ms/step - loss: 0.6497 - accuracy: 0.6187 - val_loss: 0.6556 - val_accuracy: 0.6329\n",
            "Epoch 10/15\n",
            "34/34 [==============================] - 0s 3ms/step - loss: 0.6454 - accuracy: 0.6262 - val_loss: 0.6527 - val_accuracy: 0.6232\n",
            "Epoch 11/15\n",
            "34/34 [==============================] - 0s 3ms/step - loss: 0.6441 - accuracy: 0.5850 - val_loss: 0.6505 - val_accuracy: 0.6232\n",
            "Epoch 12/15\n",
            "34/34 [==============================] - 0s 3ms/step - loss: 0.6431 - accuracy: 0.6056 - val_loss: 0.6481 - val_accuracy: 0.6329\n",
            "Epoch 13/15\n",
            "34/34 [==============================] - 0s 3ms/step - loss: 0.6399 - accuracy: 0.5963 - val_loss: 0.6520 - val_accuracy: 0.5411\n",
            "Epoch 14/15\n",
            "34/34 [==============================] - 0s 3ms/step - loss: 0.6386 - accuracy: 0.5664 - val_loss: 0.6493 - val_accuracy: 0.5459\n",
            "Epoch 15/15\n",
            "34/34 [==============================] - 0s 3ms/step - loss: 0.6352 - accuracy: 0.5645 - val_loss: 0.6505 - val_accuracy: 0.5507\n"
          ]
        }
      ]
    },
    {
      "cell_type": "code",
      "source": [
        "results = model_4.evaluate(X_val,y_val, verbose=1)\n",
        "\n",
        "for name, value in zip(model_4.metrics_names, results):\n",
        "  print(\"%s: %.3f\" % (name, value))"
      ],
      "metadata": {
        "colab": {
          "base_uri": "https://localhost:8080/"
        },
        "id": "tPS2ITki0IVi",
        "outputId": "6b14cb39-b6c5-4694-fab1-060245f00406"
      },
      "execution_count": 44,
      "outputs": [
        {
          "output_type": "stream",
          "name": "stdout",
          "text": [
            "1/1 [==============================] - 0s 24ms/step - loss: 0.4847 - accuracy: 0.7826\n",
            "loss: 0.485\n",
            "accuracy: 0.783\n"
          ]
        }
      ]
    },
    {
      "cell_type": "markdown",
      "source": [
        "Report, compare, and explain the observed accuracy and minimum loss achieved.\n",
        "\n",
        "Loss achieved: 0.485\n",
        "\n",
        "Observed Accuracy: 0.783 "
      ],
      "metadata": {
        "id": "hZo13I_g0UN-"
      }
    },
    {
      "cell_type": "code",
      "source": [
        "# Comparison of Single hidden layer with varying hidden nodes\n",
        "\n",
        "print(\"4 Hidden nodes\")\n",
        "results = model_1.evaluate(X_val,y_val, verbose=1)\n",
        "for name1, value1 in zip(model_1.metrics_names, results):\n",
        "  print(\"%s: %.3f\" % (name1, value1))\n",
        "\n",
        "print(\"\\n8 Hidden nodes\")\n",
        "results = model_2.evaluate(X_val,y_val, verbose=1)\n",
        "for name2, value2 in zip(model_2.metrics_names, results):\n",
        "  print(\"%s: %.3f\" % (name2, value2))\n",
        "\n",
        "print(\"\\n12 Hidden nodes\")\n",
        "results = model_3.evaluate(X_val,y_val, verbose=1)\n",
        "for name3, value3 in zip(model_3.metrics_names, results):\n",
        "  print(\"%s: %.3f\" % (name3, value3))\n",
        "\n",
        "print(\"\\n16 Hidden nodes\")\n",
        "results = model_4.evaluate(X_val,y_val, verbose=1)\n",
        "for name4, value4 in zip(model_4.metrics_names, results):\n",
        "  print(\"%s: %.3f\" % (name4, value4))"
      ],
      "metadata": {
        "colab": {
          "base_uri": "https://localhost:8080/"
        },
        "id": "pgbnB5Nk0LNd",
        "outputId": "ccca386d-984f-4168-d339-718462e9a06b"
      },
      "execution_count": 45,
      "outputs": [
        {
          "output_type": "stream",
          "name": "stdout",
          "text": [
            "4 Hidden nodes\n",
            "1/1 [==============================] - 0s 21ms/step - loss: 0.6950 - accuracy: 0.4348\n",
            "loss: 0.695\n",
            "accuracy: 0.435\n",
            "\n",
            "8 Hidden nodes\n",
            "1/1 [==============================] - 0s 21ms/step - loss: 0.5149 - accuracy: 0.7826\n",
            "loss: 0.515\n",
            "accuracy: 0.783\n",
            "\n",
            "12 Hidden nodes\n",
            "1/1 [==============================] - 0s 27ms/step - loss: 0.6122 - accuracy: 0.6957\n",
            "loss: 0.612\n",
            "accuracy: 0.696\n",
            "\n",
            "16 Hidden nodes\n",
            "1/1 [==============================] - 0s 30ms/step - loss: 0.4847 - accuracy: 0.7826\n",
            "loss: 0.485\n",
            "accuracy: 0.783\n"
          ]
        }
      ]
    },
    {
      "cell_type": "markdown",
      "source": [
        "## 3. Visually observe the dataset and design an appropriate feature transformation (derived feature) such that after feature transformation, the dataset can be classified using a minimal network architecture (minimum number of parameters)."
      ],
      "metadata": {
        "id": "ACnCW6uv0UcZ"
      }
    },
    {
      "cell_type": "code",
      "source": [
        "df2=df\n",
        "df2"
      ],
      "metadata": {
        "colab": {
          "base_uri": "https://localhost:8080/",
          "height": 424
        },
        "id": "jZFqlI3G0qq1",
        "outputId": "4a5ebf0d-3b0c-4541-d6b8-3a4ae7074013"
      },
      "execution_count": 46,
      "outputs": [
        {
          "output_type": "execute_result",
          "data": {
            "text/plain": [
              "     Feature_1  Feature_2  Class\n",
              "0     0.046000  -0.181767      0\n",
              "1    -0.516146   0.210068      0\n",
              "2     0.246368  -0.514901      0\n",
              "3    -0.176004   0.538347      0\n",
              "4    -0.540533   0.239300      0\n",
              "..         ...        ...    ...\n",
              "760   0.218472   0.184996      1\n",
              "761  -0.097992  -0.302559      1\n",
              "762  -0.236467   0.212870      1\n",
              "763   0.745290  -0.210026      1\n",
              "764   0.248667   0.218322      1\n",
              "\n",
              "[765 rows x 3 columns]"
            ],
            "text/html": [
              "\n",
              "  <div id=\"df-d227f378-c781-45c9-ab8c-49f894d58424\">\n",
              "    <div class=\"colab-df-container\">\n",
              "      <div>\n",
              "<style scoped>\n",
              "    .dataframe tbody tr th:only-of-type {\n",
              "        vertical-align: middle;\n",
              "    }\n",
              "\n",
              "    .dataframe tbody tr th {\n",
              "        vertical-align: top;\n",
              "    }\n",
              "\n",
              "    .dataframe thead th {\n",
              "        text-align: right;\n",
              "    }\n",
              "</style>\n",
              "<table border=\"1\" class=\"dataframe\">\n",
              "  <thead>\n",
              "    <tr style=\"text-align: right;\">\n",
              "      <th></th>\n",
              "      <th>Feature_1</th>\n",
              "      <th>Feature_2</th>\n",
              "      <th>Class</th>\n",
              "    </tr>\n",
              "  </thead>\n",
              "  <tbody>\n",
              "    <tr>\n",
              "      <th>0</th>\n",
              "      <td>0.046000</td>\n",
              "      <td>-0.181767</td>\n",
              "      <td>0</td>\n",
              "    </tr>\n",
              "    <tr>\n",
              "      <th>1</th>\n",
              "      <td>-0.516146</td>\n",
              "      <td>0.210068</td>\n",
              "      <td>0</td>\n",
              "    </tr>\n",
              "    <tr>\n",
              "      <th>2</th>\n",
              "      <td>0.246368</td>\n",
              "      <td>-0.514901</td>\n",
              "      <td>0</td>\n",
              "    </tr>\n",
              "    <tr>\n",
              "      <th>3</th>\n",
              "      <td>-0.176004</td>\n",
              "      <td>0.538347</td>\n",
              "      <td>0</td>\n",
              "    </tr>\n",
              "    <tr>\n",
              "      <th>4</th>\n",
              "      <td>-0.540533</td>\n",
              "      <td>0.239300</td>\n",
              "      <td>0</td>\n",
              "    </tr>\n",
              "    <tr>\n",
              "      <th>...</th>\n",
              "      <td>...</td>\n",
              "      <td>...</td>\n",
              "      <td>...</td>\n",
              "    </tr>\n",
              "    <tr>\n",
              "      <th>760</th>\n",
              "      <td>0.218472</td>\n",
              "      <td>0.184996</td>\n",
              "      <td>1</td>\n",
              "    </tr>\n",
              "    <tr>\n",
              "      <th>761</th>\n",
              "      <td>-0.097992</td>\n",
              "      <td>-0.302559</td>\n",
              "      <td>1</td>\n",
              "    </tr>\n",
              "    <tr>\n",
              "      <th>762</th>\n",
              "      <td>-0.236467</td>\n",
              "      <td>0.212870</td>\n",
              "      <td>1</td>\n",
              "    </tr>\n",
              "    <tr>\n",
              "      <th>763</th>\n",
              "      <td>0.745290</td>\n",
              "      <td>-0.210026</td>\n",
              "      <td>1</td>\n",
              "    </tr>\n",
              "    <tr>\n",
              "      <th>764</th>\n",
              "      <td>0.248667</td>\n",
              "      <td>0.218322</td>\n",
              "      <td>1</td>\n",
              "    </tr>\n",
              "  </tbody>\n",
              "</table>\n",
              "<p>765 rows × 3 columns</p>\n",
              "</div>\n",
              "      <button class=\"colab-df-convert\" onclick=\"convertToInteractive('df-d227f378-c781-45c9-ab8c-49f894d58424')\"\n",
              "              title=\"Convert this dataframe to an interactive table.\"\n",
              "              style=\"display:none;\">\n",
              "        \n",
              "  <svg xmlns=\"http://www.w3.org/2000/svg\" height=\"24px\"viewBox=\"0 0 24 24\"\n",
              "       width=\"24px\">\n",
              "    <path d=\"M0 0h24v24H0V0z\" fill=\"none\"/>\n",
              "    <path d=\"M18.56 5.44l.94 2.06.94-2.06 2.06-.94-2.06-.94-.94-2.06-.94 2.06-2.06.94zm-11 1L8.5 8.5l.94-2.06 2.06-.94-2.06-.94L8.5 2.5l-.94 2.06-2.06.94zm10 10l.94 2.06.94-2.06 2.06-.94-2.06-.94-.94-2.06-.94 2.06-2.06.94z\"/><path d=\"M17.41 7.96l-1.37-1.37c-.4-.4-.92-.59-1.43-.59-.52 0-1.04.2-1.43.59L10.3 9.45l-7.72 7.72c-.78.78-.78 2.05 0 2.83L4 21.41c.39.39.9.59 1.41.59.51 0 1.02-.2 1.41-.59l7.78-7.78 2.81-2.81c.8-.78.8-2.07 0-2.86zM5.41 20L4 18.59l7.72-7.72 1.47 1.35L5.41 20z\"/>\n",
              "  </svg>\n",
              "      </button>\n",
              "      \n",
              "  <style>\n",
              "    .colab-df-container {\n",
              "      display:flex;\n",
              "      flex-wrap:wrap;\n",
              "      gap: 12px;\n",
              "    }\n",
              "\n",
              "    .colab-df-convert {\n",
              "      background-color: #E8F0FE;\n",
              "      border: none;\n",
              "      border-radius: 50%;\n",
              "      cursor: pointer;\n",
              "      display: none;\n",
              "      fill: #1967D2;\n",
              "      height: 32px;\n",
              "      padding: 0 0 0 0;\n",
              "      width: 32px;\n",
              "    }\n",
              "\n",
              "    .colab-df-convert:hover {\n",
              "      background-color: #E2EBFA;\n",
              "      box-shadow: 0px 1px 2px rgba(60, 64, 67, 0.3), 0px 1px 3px 1px rgba(60, 64, 67, 0.15);\n",
              "      fill: #174EA6;\n",
              "    }\n",
              "\n",
              "    [theme=dark] .colab-df-convert {\n",
              "      background-color: #3B4455;\n",
              "      fill: #D2E3FC;\n",
              "    }\n",
              "\n",
              "    [theme=dark] .colab-df-convert:hover {\n",
              "      background-color: #434B5C;\n",
              "      box-shadow: 0px 1px 3px 1px rgba(0, 0, 0, 0.15);\n",
              "      filter: drop-shadow(0px 1px 2px rgba(0, 0, 0, 0.3));\n",
              "      fill: #FFFFFF;\n",
              "    }\n",
              "  </style>\n",
              "\n",
              "      <script>\n",
              "        const buttonEl =\n",
              "          document.querySelector('#df-d227f378-c781-45c9-ab8c-49f894d58424 button.colab-df-convert');\n",
              "        buttonEl.style.display =\n",
              "          google.colab.kernel.accessAllowed ? 'block' : 'none';\n",
              "\n",
              "        async function convertToInteractive(key) {\n",
              "          const element = document.querySelector('#df-d227f378-c781-45c9-ab8c-49f894d58424');\n",
              "          const dataTable =\n",
              "            await google.colab.kernel.invokeFunction('convertToInteractive',\n",
              "                                                     [key], {});\n",
              "          if (!dataTable) return;\n",
              "\n",
              "          const docLinkHtml = 'Like what you see? Visit the ' +\n",
              "            '<a target=\"_blank\" href=https://colab.research.google.com/notebooks/data_table.ipynb>data table notebook</a>'\n",
              "            + ' to learn more about interactive tables.';\n",
              "          element.innerHTML = '';\n",
              "          dataTable['output_type'] = 'display_data';\n",
              "          await google.colab.output.renderOutput(dataTable, element);\n",
              "          const docLink = document.createElement('div');\n",
              "          docLink.innerHTML = docLinkHtml;\n",
              "          element.appendChild(docLink);\n",
              "        }\n",
              "      </script>\n",
              "    </div>\n",
              "  </div>\n",
              "  "
            ]
          },
          "metadata": {},
          "execution_count": 46
        }
      ]
    },
    {
      "cell_type": "code",
      "source": [
        "import seaborn as sns\n",
        "\n",
        "sns.pairplot(df, hue =\"Class\", palette ='coolwarm')"
      ],
      "metadata": {
        "colab": {
          "base_uri": "https://localhost:8080/",
          "height": 391
        },
        "id": "yHb2XDRq0sqW",
        "outputId": "40a467ad-19d3-4f66-d71e-d7c66f857a69"
      },
      "execution_count": 47,
      "outputs": [
        {
          "output_type": "execute_result",
          "data": {
            "text/plain": [
              "<seaborn.axisgrid.PairGrid at 0x7f12cb64b390>"
            ]
          },
          "metadata": {},
          "execution_count": 47
        },
        {
          "output_type": "display_data",
          "data": {
            "text/plain": [
              "<Figure size 402.375x360 with 6 Axes>"
            ],
            "image/png": "[encoded data removed]"
          },
          "metadata": {
            "needs_background": "light"
          }
        }
      ]
    },
    {
      "cell_type": "markdown",
      "source": [
        "Both the features are normally distributed in each class, therefore feature transformation is not necessary.\n"
      ],
      "metadata": {
        "id": "1M4aL2kr0zN_"
      }
    },
    {
      "cell_type": "code",
      "source": [
        "df2.describe()\n"
      ],
      "metadata": {
        "colab": {
          "base_uri": "https://localhost:8080/",
          "height": 300
        },
        "id": "VvYh3gWr0vdF",
        "outputId": "cb9f8a1b-603a-4d52-f0d4-d00ef2a0f6c3"
      },
      "execution_count": 48,
      "outputs": [
        {
          "output_type": "execute_result",
          "data": {
            "text/plain": [
              "        Feature_1   Feature_2       Class\n",
              "count  765.000000  765.000000  765.000000\n",
              "mean     0.025033   -0.006364    0.418301\n",
              "std      0.480400    0.499142    0.493603\n",
              "min     -0.996726   -0.999604    0.000000\n",
              "25%     -0.350203   -0.419548    0.000000\n",
              "50%      0.029291   -0.006020    0.000000\n",
              "75%      0.404412    0.382453    1.000000\n",
              "max      0.953268    0.984892    1.000000"
            ],
            "text/html": [
              "\n",
              "  <div id=\"df-e985ddb6-c072-4218-9603-76803ccfc48f\">\n",
              "    <div class=\"colab-df-container\">\n",
              "      <div>\n",
              "<style scoped>\n",
              "    .dataframe tbody tr th:only-of-type {\n",
              "        vertical-align: middle;\n",
              "    }\n",
              "\n",
              "    .dataframe tbody tr th {\n",
              "        vertical-align: top;\n",
              "    }\n",
              "\n",
              "    .dataframe thead th {\n",
              "        text-align: right;\n",
              "    }\n",
              "</style>\n",
              "<table border=\"1\" class=\"dataframe\">\n",
              "  <thead>\n",
              "    <tr style=\"text-align: right;\">\n",
              "      <th></th>\n",
              "      <th>Feature_1</th>\n",
              "      <th>Feature_2</th>\n",
              "      <th>Class</th>\n",
              "    </tr>\n",
              "  </thead>\n",
              "  <tbody>\n",
              "    <tr>\n",
              "      <th>count</th>\n",
              "      <td>765.000000</td>\n",
              "      <td>765.000000</td>\n",
              "      <td>765.000000</td>\n",
              "    </tr>\n",
              "    <tr>\n",
              "      <th>mean</th>\n",
              "      <td>0.025033</td>\n",
              "      <td>-0.006364</td>\n",
              "      <td>0.418301</td>\n",
              "    </tr>\n",
              "    <tr>\n",
              "      <th>std</th>\n",
              "      <td>0.480400</td>\n",
              "      <td>0.499142</td>\n",
              "      <td>0.493603</td>\n",
              "    </tr>\n",
              "    <tr>\n",
              "      <th>min</th>\n",
              "      <td>-0.996726</td>\n",
              "      <td>-0.999604</td>\n",
              "      <td>0.000000</td>\n",
              "    </tr>\n",
              "    <tr>\n",
              "      <th>25%</th>\n",
              "      <td>-0.350203</td>\n",
              "      <td>-0.419548</td>\n",
              "      <td>0.000000</td>\n",
              "    </tr>\n",
              "    <tr>\n",
              "      <th>50%</th>\n",
              "      <td>0.029291</td>\n",
              "      <td>-0.006020</td>\n",
              "      <td>0.000000</td>\n",
              "    </tr>\n",
              "    <tr>\n",
              "      <th>75%</th>\n",
              "      <td>0.404412</td>\n",
              "      <td>0.382453</td>\n",
              "      <td>1.000000</td>\n",
              "    </tr>\n",
              "    <tr>\n",
              "      <th>max</th>\n",
              "      <td>0.953268</td>\n",
              "      <td>0.984892</td>\n",
              "      <td>1.000000</td>\n",
              "    </tr>\n",
              "  </tbody>\n",
              "</table>\n",
              "</div>\n",
              "      <button class=\"colab-df-convert\" onclick=\"convertToInteractive('df-e985ddb6-c072-4218-9603-76803ccfc48f')\"\n",
              "              title=\"Convert this dataframe to an interactive table.\"\n",
              "              style=\"display:none;\">\n",
              "        \n",
              "  <svg xmlns=\"http://www.w3.org/2000/svg\" height=\"24px\"viewBox=\"0 0 24 24\"\n",
              "       width=\"24px\">\n",
              "    <path d=\"M0 0h24v24H0V0z\" fill=\"none\"/>\n",
              "    <path d=\"M18.56 5.44l.94 2.06.94-2.06 2.06-.94-2.06-.94-.94-2.06-.94 2.06-2.06.94zm-11 1L8.5 8.5l.94-2.06 2.06-.94-2.06-.94L8.5 2.5l-.94 2.06-2.06.94zm10 10l.94 2.06.94-2.06 2.06-.94-2.06-.94-.94-2.06-.94 2.06-2.06.94z\"/><path d=\"M17.41 7.96l-1.37-1.37c-.4-.4-.92-.59-1.43-.59-.52 0-1.04.2-1.43.59L10.3 9.45l-7.72 7.72c-.78.78-.78 2.05 0 2.83L4 21.41c.39.39.9.59 1.41.59.51 0 1.02-.2 1.41-.59l7.78-7.78 2.81-2.81c.8-.78.8-2.07 0-2.86zM5.41 20L4 18.59l7.72-7.72 1.47 1.35L5.41 20z\"/>\n",
              "  </svg>\n",
              "      </button>\n",
              "      \n",
              "  <style>\n",
              "    .colab-df-container {\n",
              "      display:flex;\n",
              "      flex-wrap:wrap;\n",
              "      gap: 12px;\n",
              "    }\n",
              "\n",
              "    .colab-df-convert {\n",
              "      background-color: #E8F0FE;\n",
              "      border: none;\n",
              "      border-radius: 50%;\n",
              "      cursor: pointer;\n",
              "      display: none;\n",
              "      fill: #1967D2;\n",
              "      height: 32px;\n",
              "      padding: 0 0 0 0;\n",
              "      width: 32px;\n",
              "    }\n",
              "\n",
              "    .colab-df-convert:hover {\n",
              "      background-color: #E2EBFA;\n",
              "      box-shadow: 0px 1px 2px rgba(60, 64, 67, 0.3), 0px 1px 3px 1px rgba(60, 64, 67, 0.15);\n",
              "      fill: #174EA6;\n",
              "    }\n",
              "\n",
              "    [theme=dark] .colab-df-convert {\n",
              "      background-color: #3B4455;\n",
              "      fill: #D2E3FC;\n",
              "    }\n",
              "\n",
              "    [theme=dark] .colab-df-convert:hover {\n",
              "      background-color: #434B5C;\n",
              "      box-shadow: 0px 1px 3px 1px rgba(0, 0, 0, 0.15);\n",
              "      filter: drop-shadow(0px 1px 2px rgba(0, 0, 0, 0.3));\n",
              "      fill: #FFFFFF;\n",
              "    }\n",
              "  </style>\n",
              "\n",
              "      <script>\n",
              "        const buttonEl =\n",
              "          document.querySelector('#df-e985ddb6-c072-4218-9603-76803ccfc48f button.colab-df-convert');\n",
              "        buttonEl.style.display =\n",
              "          google.colab.kernel.accessAllowed ? 'block' : 'none';\n",
              "\n",
              "        async function convertToInteractive(key) {\n",
              "          const element = document.querySelector('#df-e985ddb6-c072-4218-9603-76803ccfc48f');\n",
              "          const dataTable =\n",
              "            await google.colab.kernel.invokeFunction('convertToInteractive',\n",
              "                                                     [key], {});\n",
              "          if (!dataTable) return;\n",
              "\n",
              "          const docLinkHtml = 'Like what you see? Visit the ' +\n",
              "            '<a target=\"_blank\" href=https://colab.research.google.com/notebooks/data_table.ipynb>data table notebook</a>'\n",
              "            + ' to learn more about interactive tables.';\n",
              "          element.innerHTML = '';\n",
              "          dataTable['output_type'] = 'display_data';\n",
              "          await google.colab.output.renderOutput(dataTable, element);\n",
              "          const docLink = document.createElement('div');\n",
              "          docLink.innerHTML = docLinkHtml;\n",
              "          element.appendChild(docLink);\n",
              "        }\n",
              "      </script>\n",
              "    </div>\n",
              "  </div>\n",
              "  "
            ]
          },
          "metadata": {},
          "execution_count": 48
        }
      ]
    },
    {
      "cell_type": "code",
      "source": [
        "data=df2.values\n",
        "data"
      ],
      "metadata": {
        "colab": {
          "base_uri": "https://localhost:8080/"
        },
        "id": "MLx8fyxy046H",
        "outputId": "70ccf72f-a8c7-42d0-d906-a6dbde3568df"
      },
      "execution_count": 49,
      "outputs": [
        {
          "output_type": "execute_result",
          "data": {
            "text/plain": [
              "array([[ 0.04599954, -0.18176747,  0.        ],\n",
              "       [-0.51614619,  0.21006791,  0.        ],\n",
              "       [ 0.24636835, -0.5149011 ,  0.        ],\n",
              "       ...,\n",
              "       [-0.23646717,  0.21286969,  1.        ],\n",
              "       [ 0.74528979, -0.21002566,  1.        ],\n",
              "       [ 0.2486673 ,  0.21832184,  1.        ]])"
            ]
          },
          "metadata": {},
          "execution_count": 49
        }
      ]
    },
    {
      "cell_type": "code",
      "source": [
        "data_ft=data[:,0:2]\n",
        "data_ft"
      ],
      "metadata": {
        "colab": {
          "base_uri": "https://localhost:8080/"
        },
        "id": "d70GuQcb06qR",
        "outputId": "da50cc6a-0047-4c48-c569-9ba8b3155f22"
      },
      "execution_count": 50,
      "outputs": [
        {
          "output_type": "execute_result",
          "data": {
            "text/plain": [
              "array([[ 0.04599954, -0.18176747],\n",
              "       [-0.51614619,  0.21006791],\n",
              "       [ 0.24636835, -0.5149011 ],\n",
              "       ...,\n",
              "       [-0.23646717,  0.21286969],\n",
              "       [ 0.74528979, -0.21002566],\n",
              "       [ 0.2486673 ,  0.21832184]])"
            ]
          },
          "metadata": {},
          "execution_count": 50
        }
      ]
    },
    {
      "cell_type": "code",
      "source": [
        "min_max_scaler=preprocessing.MinMaxScaler()\n",
        "data_ft_new=min_max_scaler.fit_transform(data_ft)\n",
        "data_ft_new"
      ],
      "metadata": {
        "colab": {
          "base_uri": "https://localhost:8080/"
        },
        "id": "iVC2FZie099L",
        "outputId": "c3ec3d92-d17c-4d19-aebf-40107fd265ba"
      },
      "execution_count": 51,
      "outputs": [
        {
          "output_type": "execute_result",
          "data": {
            "text/plain": [
              "array([[0.53473257, 0.41211289],\n",
              "       [0.24645187, 0.60956121],\n",
              "       [0.6374861 , 0.24424475],\n",
              "       ...,\n",
              "       [0.38987742, 0.61097305],\n",
              "       [0.89334399, 0.39787341],\n",
              "       [0.63866505, 0.61372042]])"
            ]
          },
          "metadata": {},
          "execution_count": 51
        }
      ]
    },
    {
      "cell_type": "code",
      "source": [
        "print(\"Min: \", data_ft_new.min(), \", Max: \", data_ft_new.max())\n"
      ],
      "metadata": {
        "colab": {
          "base_uri": "https://localhost:8080/"
        },
        "id": "tq0P2g6o1HfC",
        "outputId": "42ef8bb8-cc1c-4454-8947-a38a556cd1ab"
      },
      "execution_count": 52,
      "outputs": [
        {
          "output_type": "stream",
          "name": "stdout",
          "text": [
            "Min:  0.0 , Max:  1.0\n"
          ]
        }
      ]
    },
    {
      "cell_type": "code",
      "source": [
        "data_clas=data[:,2]\n"
      ],
      "metadata": {
        "id": "YJFPtZHa1Lkg"
      },
      "execution_count": 53,
      "outputs": []
    },
    {
      "cell_type": "code",
      "source": [
        "X_train, X_rest, y_train, y_rest = train_test_split(data_ft_new, data_clas, test_size = 0.3, random_state = 70)\n"
      ],
      "metadata": {
        "id": "joWqZ36p1OLc"
      },
      "execution_count": 54,
      "outputs": []
    },
    {
      "cell_type": "code",
      "source": [
        "X_val, X_test, y_val, y_test = train_test_split(X_rest, y_rest, test_size = 0.9, random_state = 80)\n"
      ],
      "metadata": {
        "id": "VL86qjQA1SXM"
      },
      "execution_count": 55,
      "outputs": []
    },
    {
      "cell_type": "code",
      "source": [
        "print(\"X_train:\",X_train.shape, \",\" , \"X_val:\", X_val.shape, \",\" , \"X_test:\", X_test.shape)\n",
        "print(\"y_train:\",y_train.shape, \",\" , \"y_val:\", y_val.shape, \",\" , \"y_test:\", y_test.shape)"
      ],
      "metadata": {
        "colab": {
          "base_uri": "https://localhost:8080/"
        },
        "id": "m_713Q5L1Ub6",
        "outputId": "34296af8-6bd5-45bc-9ed4-2eaf54ad57e3"
      },
      "execution_count": 56,
      "outputs": [
        {
          "output_type": "stream",
          "name": "stdout",
          "text": [
            "X_train: (535, 2) , X_val: (23, 2) , X_test: (207, 2)\n",
            "y_train: (535,) , y_val: (23,) , y_test: (207,)\n"
          ]
        }
      ]
    },
    {
      "cell_type": "markdown",
      "source": [
        "New network with minimum number of parameters\n"
      ],
      "metadata": {
        "id": "EarGcyN41a5w"
      }
    },
    {
      "cell_type": "code",
      "source": [
        "new_model = tf.keras.Sequential()\n",
        "new_model.add(tf.keras.Input(shape=(2,)))\n",
        "new_model.add(tf.keras.layers.Dense(12, activation='relu'))\n",
        "new_model.add(tf.keras.layers.Dense(1, activation=\"sigmoid\"))\n",
        "\n",
        "# loss function\n",
        "loss_fn = tf.keras.losses.BinaryCrossentropy()\n",
        "\n",
        "# optimizer\n",
        "optimizer = tf.keras.optimizers.Adam(0.0003)\n",
        "new_model.compile(optimizer=optimizer,\n",
        "                  loss=loss_fn,\n",
        "                  metrics=['accuracy'],\n",
        "                  )\n",
        "history = new_model.fit(X_train,y_train,batch_size=15,\n",
        "                epochs=15,\n",
        "                validation_data=(X_test,y_test),\n",
        "                verbose=False)\n",
        "results = new_model.evaluate(X_val,y_val, verbose=0)\n",
        "\n",
        "for name, value in zip(new_model.metrics_names, results):\n",
        "  print(\"%s: %.3f\" % (name, value))"
      ],
      "metadata": {
        "colab": {
          "base_uri": "https://localhost:8080/"
        },
        "id": "i8Jw7xeQ1Xiw",
        "outputId": "0129dbf3-dc12-4611-f422-c832e7500513"
      },
      "execution_count": 57,
      "outputs": [
        {
          "output_type": "stream",
          "name": "stdout",
          "text": [
            "loss: 0.693\n",
            "accuracy: 0.435\n"
          ]
        }
      ]
    },
    {
      "cell_type": "code",
      "source": [
        "new_model.optimizer.get_config()"
      ],
      "metadata": {
        "colab": {
          "base_uri": "https://localhost:8080/"
        },
        "id": "oC5nBLJA1iQE",
        "outputId": "6499b872-fa0c-4271-b63c-125881c4b453"
      },
      "execution_count": 58,
      "outputs": [
        {
          "output_type": "execute_result",
          "data": {
            "text/plain": [
              "{'amsgrad': False,\n",
              " 'beta_1': 0.9,\n",
              " 'beta_2': 0.999,\n",
              " 'decay': 0.0,\n",
              " 'epsilon': 1e-07,\n",
              " 'learning_rate': 0.0003,\n",
              " 'name': 'Adam'}"
            ]
          },
          "metadata": {},
          "execution_count": 58
        }
      ]
    },
    {
      "cell_type": "code",
      "source": [
        ""
      ],
      "metadata": {
        "id": "AwcMcz5Y1lAn"
      },
      "execution_count": 58,
      "outputs": []
    },
    {
      "cell_type": "markdown",
      "source": [
        "We are getting better accuracy and loss when doing the feature transformation even with minimum number of parameters "
      ],
      "metadata": {
        "id": "4mehcIKx1nQt"
      }
    }
  ]
}